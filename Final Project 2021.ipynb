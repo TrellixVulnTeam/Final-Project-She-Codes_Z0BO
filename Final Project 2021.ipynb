{
 "cells": [
  {
   "cell_type": "code",
   "execution_count": 1,
   "id": "c66ee6dc-0d23-4466-817c-5d08fd7e309e",
   "metadata": {},
   "outputs": [
    {
     "name": "stdout",
     "output_type": "stream",
     "text": [
      "Requirement already satisfied: seaborn in c:\\users\\user\\pycharmprojects\\finalprojectshecodes\\venv\\lib\\site-packages (0.11.1)\n",
      "Requirement already satisfied: pandas>=0.23 in c:\\users\\user\\pycharmprojects\\finalprojectshecodes\\venv\\lib\\site-packages (from seaborn) (1.2.4)\n",
      "Requirement already satisfied: numpy>=1.15 in c:\\users\\user\\pycharmprojects\\finalprojectshecodes\\venv\\lib\\site-packages (from seaborn) (1.20.2)\n",
      "Requirement already satisfied: matplotlib>=2.2 in c:\\users\\user\\pycharmprojects\\finalprojectshecodes\\venv\\lib\\site-packages (from seaborn) (3.4.2)\n",
      "Requirement already satisfied: scipy>=1.0 in c:\\users\\user\\pycharmprojects\\finalprojectshecodes\\venv\\lib\\site-packages (from seaborn) (1.6.3)\n",
      "Requirement already satisfied: cycler>=0.10 in c:\\users\\user\\pycharmprojects\\finalprojectshecodes\\venv\\lib\\site-packages (from matplotlib>=2.2->seaborn) (0.10.0)\n",
      "Requirement already satisfied: kiwisolver>=1.0.1 in c:\\users\\user\\pycharmprojects\\finalprojectshecodes\\venv\\lib\\site-packages (from matplotlib>=2.2->seaborn) (1.3.1)\n",
      "Requirement already satisfied: pyparsing>=2.2.1 in c:\\users\\user\\pycharmprojects\\finalprojectshecodes\\venv\\lib\\site-packages (from matplotlib>=2.2->seaborn) (2.4.7)\n",
      "Requirement already satisfied: pillow>=6.2.0 in c:\\users\\user\\pycharmprojects\\finalprojectshecodes\\venv\\lib\\site-packages (from matplotlib>=2.2->seaborn) (8.2.0)\n",
      "Requirement already satisfied: python-dateutil>=2.7 in c:\\users\\user\\pycharmprojects\\finalprojectshecodes\\venv\\lib\\site-packages (from matplotlib>=2.2->seaborn) (2.8.1)\n",
      "Requirement already satisfied: six in c:\\users\\user\\pycharmprojects\\finalprojectshecodes\\venv\\lib\\site-packages (from cycler>=0.10->matplotlib>=2.2->seaborn) (1.15.0)\n",
      "Requirement already satisfied: pytz>=2017.3 in c:\\users\\user\\pycharmprojects\\finalprojectshecodes\\venv\\lib\\site-packages (from pandas>=0.23->seaborn) (2021.1)\n"
     ]
    },
    {
     "name": "stderr",
     "output_type": "stream",
     "text": [
      "WARNING: You are using pip version 21.1.1; however, version 21.1.3 is available.\n",
      "You should consider upgrading via the 'c:\\users\\user\\pycharmprojects\\finalprojectshecodes\\venv\\scripts\\python.exe -m pip install --upgrade pip' command.\n"
     ]
    },
    {
     "name": "stdout",
     "output_type": "stream",
     "text": [
      "Requirement already satisfied: sklearn in c:\\users\\user\\pycharmprojects\\finalprojectshecodes\\venv\\lib\\site-packages (0.0)\n",
      "Requirement already satisfied: scikit-learn in c:\\users\\user\\pycharmprojects\\finalprojectshecodes\\venv\\lib\\site-packages (from sklearn) (0.24.2)\n",
      "Requirement already satisfied: joblib>=0.11 in c:\\users\\user\\pycharmprojects\\finalprojectshecodes\\venv\\lib\\site-packages (from scikit-learn->sklearn) (1.0.1)\n",
      "Requirement already satisfied: numpy>=1.13.3 in c:\\users\\user\\pycharmprojects\\finalprojectshecodes\\venv\\lib\\site-packages (from scikit-learn->sklearn) (1.20.2)\n",
      "Requirement already satisfied: scipy>=0.19.1 in c:\\users\\user\\pycharmprojects\\finalprojectshecodes\\venv\\lib\\site-packages (from scikit-learn->sklearn) (1.6.3)\n",
      "Requirement already satisfied: threadpoolctl>=2.0.0 in c:\\users\\user\\pycharmprojects\\finalprojectshecodes\\venv\\lib\\site-packages (from scikit-learn->sklearn) (2.1.0)\n"
     ]
    },
    {
     "name": "stderr",
     "output_type": "stream",
     "text": [
      "WARNING: You are using pip version 21.1.1; however, version 21.1.3 is available.\n",
      "You should consider upgrading via the 'c:\\users\\user\\pycharmprojects\\finalprojectshecodes\\venv\\scripts\\python.exe -m pip install --upgrade pip' command.\n"
     ]
    },
    {
     "name": "stdout",
     "output_type": "stream",
     "text": [
      "Requirement already satisfied: statsmodels in c:\\users\\user\\pycharmprojects\\finalprojectshecodes\\venv\\lib\\site-packages (0.12.2)\n",
      "Requirement already satisfied: numpy>=1.15 in c:\\users\\user\\pycharmprojects\\finalprojectshecodes\\venv\\lib\\site-packages (from statsmodels) (1.20.2)\n",
      "Requirement already satisfied: scipy>=1.1 in c:\\users\\user\\pycharmprojects\\finalprojectshecodes\\venv\\lib\\site-packages (from statsmodels) (1.6.3)\n",
      "Requirement already satisfied: pandas>=0.21 in c:\\users\\user\\pycharmprojects\\finalprojectshecodes\\venv\\lib\\site-packages (from statsmodels) (1.2.4)\n",
      "Requirement already satisfied: patsy>=0.5 in c:\\users\\user\\pycharmprojects\\finalprojectshecodes\\venv\\lib\\site-packages (from statsmodels) (0.5.1)\n",
      "Requirement already satisfied: python-dateutil>=2.7.3 in c:\\users\\user\\pycharmprojects\\finalprojectshecodes\\venv\\lib\\site-packages (from pandas>=0.21->statsmodels) (2.8.1)\n",
      "Requirement already satisfied: pytz>=2017.3 in c:\\users\\user\\pycharmprojects\\finalprojectshecodes\\venv\\lib\\site-packages (from pandas>=0.21->statsmodels) (2021.1)\n",
      "Requirement already satisfied: six in c:\\users\\user\\pycharmprojects\\finalprojectshecodes\\venv\\lib\\site-packages (from patsy>=0.5->statsmodels) (1.15.0)\n"
     ]
    },
    {
     "name": "stderr",
     "output_type": "stream",
     "text": [
      "WARNING: You are using pip version 21.1.1; however, version 21.1.3 is available.\n",
      "You should consider upgrading via the 'c:\\users\\user\\pycharmprojects\\finalprojectshecodes\\venv\\scripts\\python.exe -m pip install --upgrade pip' command.\n"
     ]
    }
   ],
   "source": [
    "!pip install seaborn\n",
    "!pip install sklearn\n",
    "!pip install statsmodels "
   ]
  },
  {
   "cell_type": "code",
   "execution_count": 3,
   "id": "3376a2d5-ac0a-4813-a809-ff76b2a78753",
   "metadata": {},
   "outputs": [],
   "source": [
    "import pandas as pd\n",
    "import seaborn as sns\n",
    "import numpy as np\n",
    "import matplotlib.pyplot as plt\n",
    "from matplotlib import pyplot\n",
    "import statistics\n",
    "%matplotlib inline\n",
    "from sklearn.model_selection import train_test_split\n",
    "from sklearn.linear_model import ElasticNet\n",
    "from sklearn.linear_model import LogisticRegression\n",
    "from sklearn.neighbors import KNeighborsRegressor\n",
    "from sklearn.metrics import mean_squared_error, r2_score\n",
    "from sklearn.datasets import make_regression\n",
    "from sklearn.linear_model import LinearRegression\n",
    "from sklearn import tree\n",
    "from sklearn import datasets\n",
    "from sklearn import linear_model\n",
    "from statsmodels.graphics.api import abline_plot\n",
    "from sklearn.model_selection import train_test_split\n",
    "from sklearn.ensemble import RandomForestClassifier\n",
    "from sklearn import preprocessing\n",
    "from sklearn import utils\n",
    "from sklearn.model_selection import cross_validate\n",
    "from sklearn.model_selection import KFold \n",
    "from sklearn.metrics import accuracy_score\n",
    "from sklearn import metrics"
   ]
  },
  {
   "cell_type": "markdown",
   "id": "83808b65",
   "metadata": {},
   "source": [
    "Load data"
   ]
  },
  {
   "cell_type": "code",
   "execution_count": 4,
   "id": "6fc109d0-6a4d-4983-9ebb-fb1c1b658caa",
   "metadata": {},
   "outputs": [],
   "source": [
    "all_data = pd.read_csv(r\"C:\\Users\\User\\Desktop\\Final Project\\all_data.csv\")"
   ]
  },
  {
   "cell_type": "code",
   "execution_count": 5,
   "id": "b723cb81",
   "metadata": {},
   "outputs": [
    {
     "data": {
      "text/html": [
       "<div>\n",
       "<style scoped>\n",
       "    .dataframe tbody tr th:only-of-type {\n",
       "        vertical-align: middle;\n",
       "    }\n",
       "\n",
       "    .dataframe tbody tr th {\n",
       "        vertical-align: top;\n",
       "    }\n",
       "\n",
       "    .dataframe thead th {\n",
       "        text-align: right;\n",
       "    }\n",
       "</style>\n",
       "<table border=\"1\" class=\"dataframe\">\n",
       "  <thead>\n",
       "    <tr style=\"text-align: right;\">\n",
       "      <th></th>\n",
       "      <th>Country name</th>\n",
       "      <th>continent</th>\n",
       "      <th>Regional indicator</th>\n",
       "      <th>Ladder score</th>\n",
       "      <th>Standard error of ladder score</th>\n",
       "      <th>upperwhisker</th>\n",
       "      <th>lowerwhisker</th>\n",
       "      <th>Logged GDP per capita</th>\n",
       "      <th>Social support</th>\n",
       "      <th>Healthy life expectancy</th>\n",
       "      <th>...</th>\n",
       "      <th>Dystopia + residual</th>\n",
       "      <th>area</th>\n",
       "      <th>population (thousands)</th>\n",
       "      <th>avg precipitation</th>\n",
       "      <th>disFromEquator</th>\n",
       "      <th>unemployed_rate</th>\n",
       "      <th>AvgTemp</th>\n",
       "      <th>standard_of_living_num</th>\n",
       "      <th>standard_of_living</th>\n",
       "      <th>independence_year</th>\n",
       "    </tr>\n",
       "  </thead>\n",
       "  <tbody>\n",
       "    <tr>\n",
       "      <th>0</th>\n",
       "      <td>Afghanistan</td>\n",
       "      <td>Asia</td>\n",
       "      <td>Western Europe</td>\n",
       "      <td>7.842</td>\n",
       "      <td>0.032</td>\n",
       "      <td>7.904</td>\n",
       "      <td>7.780</td>\n",
       "      <td>10.775</td>\n",
       "      <td>0.954</td>\n",
       "      <td>72.0</td>\n",
       "      <td>...</td>\n",
       "      <td>3.253</td>\n",
       "      <td>652230.0</td>\n",
       "      <td>38041754.0</td>\n",
       "      <td>327.0</td>\n",
       "      <td>3834.685659</td>\n",
       "      <td>11.730000</td>\n",
       "      <td>12.60</td>\n",
       "      <td>0.511</td>\n",
       "      <td>bad</td>\n",
       "      <td>1919.0</td>\n",
       "    </tr>\n",
       "    <tr>\n",
       "      <th>1</th>\n",
       "      <td>Albania</td>\n",
       "      <td>Europe</td>\n",
       "      <td>Western Europe</td>\n",
       "      <td>7.620</td>\n",
       "      <td>0.035</td>\n",
       "      <td>7.687</td>\n",
       "      <td>7.552</td>\n",
       "      <td>10.933</td>\n",
       "      <td>0.954</td>\n",
       "      <td>72.7</td>\n",
       "      <td>...</td>\n",
       "      <td>2.868</td>\n",
       "      <td>28748.0</td>\n",
       "      <td>2854191.0</td>\n",
       "      <td>1485.0</td>\n",
       "      <td>4589.478939</td>\n",
       "      <td>11.700000</td>\n",
       "      <td>11.40</td>\n",
       "      <td>0.795</td>\n",
       "      <td>medium</td>\n",
       "      <td>1912.0</td>\n",
       "    </tr>\n",
       "    <tr>\n",
       "      <th>2</th>\n",
       "      <td>Algeria</td>\n",
       "      <td>Africa</td>\n",
       "      <td>Western Europe</td>\n",
       "      <td>7.571</td>\n",
       "      <td>0.036</td>\n",
       "      <td>7.643</td>\n",
       "      <td>7.500</td>\n",
       "      <td>11.117</td>\n",
       "      <td>0.942</td>\n",
       "      <td>74.4</td>\n",
       "      <td>...</td>\n",
       "      <td>2.839</td>\n",
       "      <td>2381741.0</td>\n",
       "      <td>43053054.0</td>\n",
       "      <td>89.0</td>\n",
       "      <td>4083.825629</td>\n",
       "      <td>12.830000</td>\n",
       "      <td>22.50</td>\n",
       "      <td>0.748</td>\n",
       "      <td>medium</td>\n",
       "      <td>1962.0</td>\n",
       "    </tr>\n",
       "    <tr>\n",
       "      <th>3</th>\n",
       "      <td>Argentina</td>\n",
       "      <td>America</td>\n",
       "      <td>Western Europe</td>\n",
       "      <td>7.554</td>\n",
       "      <td>0.059</td>\n",
       "      <td>7.670</td>\n",
       "      <td>7.438</td>\n",
       "      <td>10.878</td>\n",
       "      <td>0.983</td>\n",
       "      <td>73.0</td>\n",
       "      <td>...</td>\n",
       "      <td>2.967</td>\n",
       "      <td>2780400.0</td>\n",
       "      <td>44938712.0</td>\n",
       "      <td>591.0</td>\n",
       "      <td>-3842.114552</td>\n",
       "      <td>11.670000</td>\n",
       "      <td>14.80</td>\n",
       "      <td>0.845</td>\n",
       "      <td>good</td>\n",
       "      <td>1816.0</td>\n",
       "    </tr>\n",
       "    <tr>\n",
       "      <th>4</th>\n",
       "      <td>Armenia</td>\n",
       "      <td>Asia</td>\n",
       "      <td>Western Europe</td>\n",
       "      <td>7.464</td>\n",
       "      <td>0.027</td>\n",
       "      <td>7.518</td>\n",
       "      <td>7.410</td>\n",
       "      <td>10.932</td>\n",
       "      <td>0.942</td>\n",
       "      <td>72.4</td>\n",
       "      <td>...</td>\n",
       "      <td>2.798</td>\n",
       "      <td>29743.0</td>\n",
       "      <td>2957731.0</td>\n",
       "      <td>562.0</td>\n",
       "      <td>4461.932955</td>\n",
       "      <td>20.209999</td>\n",
       "      <td>7.15</td>\n",
       "      <td>0.776</td>\n",
       "      <td>medium</td>\n",
       "      <td>1991.0</td>\n",
       "    </tr>\n",
       "  </tbody>\n",
       "</table>\n",
       "<p>5 rows × 30 columns</p>\n",
       "</div>"
      ],
      "text/plain": [
       "  Country name continent Regional indicator  Ladder score  \\\n",
       "0  Afghanistan      Asia     Western Europe         7.842   \n",
       "1      Albania    Europe     Western Europe         7.620   \n",
       "2      Algeria    Africa     Western Europe         7.571   \n",
       "3    Argentina   America     Western Europe         7.554   \n",
       "4      Armenia      Asia     Western Europe         7.464   \n",
       "\n",
       "   Standard error of ladder score  upperwhisker  lowerwhisker  \\\n",
       "0                           0.032         7.904         7.780   \n",
       "1                           0.035         7.687         7.552   \n",
       "2                           0.036         7.643         7.500   \n",
       "3                           0.059         7.670         7.438   \n",
       "4                           0.027         7.518         7.410   \n",
       "\n",
       "   Logged GDP per capita  Social support  Healthy life expectancy  ...  \\\n",
       "0                 10.775           0.954                     72.0  ...   \n",
       "1                 10.933           0.954                     72.7  ...   \n",
       "2                 11.117           0.942                     74.4  ...   \n",
       "3                 10.878           0.983                     73.0  ...   \n",
       "4                 10.932           0.942                     72.4  ...   \n",
       "\n",
       "   Dystopia + residual       area  population (thousands)  avg precipitation  \\\n",
       "0                3.253   652230.0              38041754.0              327.0   \n",
       "1                2.868    28748.0               2854191.0             1485.0   \n",
       "2                2.839  2381741.0              43053054.0               89.0   \n",
       "3                2.967  2780400.0              44938712.0              591.0   \n",
       "4                2.798    29743.0               2957731.0              562.0   \n",
       "\n",
       "   disFromEquator  unemployed_rate  AvgTemp  standard_of_living_num  \\\n",
       "0     3834.685659        11.730000    12.60                   0.511   \n",
       "1     4589.478939        11.700000    11.40                   0.795   \n",
       "2     4083.825629        12.830000    22.50                   0.748   \n",
       "3    -3842.114552        11.670000    14.80                   0.845   \n",
       "4     4461.932955        20.209999     7.15                   0.776   \n",
       "\n",
       "   standard_of_living  independence_year  \n",
       "0                 bad             1919.0  \n",
       "1              medium             1912.0  \n",
       "2              medium             1962.0  \n",
       "3                good             1816.0  \n",
       "4              medium             1991.0  \n",
       "\n",
       "[5 rows x 30 columns]"
      ]
     },
     "execution_count": 5,
     "metadata": {},
     "output_type": "execute_result"
    }
   ],
   "source": [
    "all_data.head()"
   ]
  },
  {
   "cell_type": "markdown",
   "id": "984fb3fb",
   "metadata": {},
   "source": [
    "Data visualizations - Regional Area"
   ]
  },
  {
   "cell_type": "code",
   "execution_count": 6,
   "id": "d8a3ced3",
   "metadata": {},
   "outputs": [
    {
     "data": {
      "image/png": "[encoded data removed]",
      "text/plain": [
       "<Figure size 432x288 with 1 Axes>"
      ]
     },
     "metadata": {
      "needs_background": "light"
     },
     "output_type": "display_data"
    }
   ],
   "source": [
    "sns.boxplot(x='Regional indicator',y='Ladder score',data=all_data, palette='coolwarm')\n",
    "plt.xticks(rotation=90)\n",
    "plt.show()"
   ]
  },
  {
   "cell_type": "code",
   "execution_count": 7,
   "id": "543f4682",
   "metadata": {},
   "outputs": [
    {
     "data": {
      "image/png": "[encoded data removed]",
      "text/plain": [
       "<Figure size 432x288 with 1 Axes>"
      ]
     },
     "metadata": {
      "needs_background": "light"
     },
     "output_type": "display_data"
    }
   ],
   "source": [
    "sns.boxplot(x='Regional indicator',y='unemployed_rate',data=all_data, palette='coolwarm')\n",
    "plt.xticks(rotation=90)\n",
    "plt.show()"
   ]
  },
  {
   "cell_type": "markdown",
   "id": "beae5993",
   "metadata": {},
   "source": [
    "Data visualizations - Country Name"
   ]
  },
  {
   "cell_type": "code",
   "execution_count": 8,
   "id": "cc818c98-dfa8-42c7-a106-f4f1bda7eb47",
   "metadata": {},
   "outputs": [
    {
     "data": {
      "image/png": "[encoded data removed]",
      "text/plain": [
       "<Figure size 432x288 with 1 Axes>"
      ]
     },
     "metadata": {
      "needs_background": "light"
     },
     "output_type": "display_data"
    }
   ],
   "source": [
    "plt.bar(x='Country name',height='Ladder score',data=all_data[all_data['Country name'].isin(['Israel','United States','Russia','China','Switzerland'])]\n",
    "        ,color = {'tab:blue','tab:orange','tab:green','tab:red','tab:purple'})\n",
    "plt.xticks(rotation=90)\n",
    "plt.xlabel('Country name')\n",
    "plt.ylabel(\"Ladder score\")\n",
    "plt.title('Ladder score by special countries')\n",
    "plt.show()"
   ]
  },
  {
   "cell_type": "code",
   "execution_count": 9,
   "id": "bec04875-98af-45be-a153-d74f78b41747",
   "metadata": {},
   "outputs": [
    {
     "data": {
      "image/png": "[encoded data removed]",
      "text/plain": [
       "<Figure size 432x288 with 1 Axes>"
      ]
     },
     "metadata": {
      "needs_background": "light"
     },
     "output_type": "display_data"
    }
   ],
   "source": [
    "ax1 = all_data.plot.scatter(x='Generosity', y='unemployed_rate', c='DarkBlue')"
   ]
  },
  {
   "cell_type": "code",
   "execution_count": 10,
   "id": "b2e5b907",
   "metadata": {
    "scrolled": true
   },
   "outputs": [
    {
     "data": {
      "image/png": "[encoded data removed]",
      "text/plain": [
       "<Figure size 432x288 with 1 Axes>"
      ]
     },
     "metadata": {
      "needs_background": "light"
     },
     "output_type": "display_data"
    }
   ],
   "source": [
    "ax1 = all_data.plot.scatter(x='independence_year', y='Ladder score', c='DarkBlue')"
   ]
  },
  {
   "cell_type": "code",
   "execution_count": 20,
   "id": "976457c9",
   "metadata": {},
   "outputs": [
    {
     "data": {
      "text/html": [
       "<div>\n",
       "<style scoped>\n",
       "    .dataframe tbody tr th:only-of-type {\n",
       "        vertical-align: middle;\n",
       "    }\n",
       "\n",
       "    .dataframe tbody tr th {\n",
       "        vertical-align: top;\n",
       "    }\n",
       "\n",
       "    .dataframe thead th {\n",
       "        text-align: right;\n",
       "    }\n",
       "</style>\n",
       "<table border=\"1\" class=\"dataframe\">\n",
       "  <thead>\n",
       "    <tr style=\"text-align: right;\">\n",
       "      <th></th>\n",
       "      <th>standard_of_living</th>\n",
       "      <th>Country name</th>\n",
       "    </tr>\n",
       "  </thead>\n",
       "  <tbody>\n",
       "    <tr>\n",
       "      <th>0</th>\n",
       "      <td>bad</td>\n",
       "      <td>28</td>\n",
       "    </tr>\n",
       "    <tr>\n",
       "      <th>1</th>\n",
       "      <td>good</td>\n",
       "      <td>47</td>\n",
       "    </tr>\n",
       "    <tr>\n",
       "      <th>2</th>\n",
       "      <td>medium</td>\n",
       "      <td>45</td>\n",
       "    </tr>\n",
       "  </tbody>\n",
       "</table>\n",
       "</div>"
      ],
      "text/plain": [
       "  standard_of_living  Country name\n",
       "0                bad            28\n",
       "1               good            47\n",
       "2             medium            45"
      ]
     },
     "execution_count": 20,
     "metadata": {},
     "output_type": "execute_result"
    }
   ],
   "source": [
    "pie_lifeLevel_label=all_data_no_nan.groupby('standard_of_living')['Country name'].count().reset_index()\n",
    "pie_lifeLevel_label"
   ]
  },
  {
   "cell_type": "code",
   "execution_count": 21,
   "id": "41148cc7",
   "metadata": {},
   "outputs": [
    {
     "data": {
      "image/png": "[encoded data removed]",
      "text/plain": [
       "<Figure size 432x288 with 1 Axes>"
      ]
     },
     "metadata": {},
     "output_type": "display_data"
    }
   ],
   "source": [
    "lifeLevel_portion = pie_lifeLevel_label['Country name']\n",
    "\n",
    "fig, ax = plt.subplots()\n",
    "my_labels = pie_lifeLevel_label['standard_of_living']\n",
    "ax.pie(x=lifeLevel_portion, labels=my_labels, autopct='%1.1f%%')\n",
    "ax.axis('equal')  \n",
    "ax.set_title('Standard of living by country amount')\n",
    "\n",
    "plt.show()"
   ]
  },
  {
   "cell_type": "markdown",
   "id": "0e6b9970",
   "metadata": {},
   "source": [
    "Data visualizations - Continent analysis"
   ]
  },
  {
   "cell_type": "code",
   "execution_count": 22,
   "id": "478bdf40",
   "metadata": {},
   "outputs": [
    {
     "data": {
      "text/html": [
       "<div>\n",
       "<style scoped>\n",
       "    .dataframe tbody tr th:only-of-type {\n",
       "        vertical-align: middle;\n",
       "    }\n",
       "\n",
       "    .dataframe tbody tr th {\n",
       "        vertical-align: top;\n",
       "    }\n",
       "\n",
       "    .dataframe thead th {\n",
       "        text-align: right;\n",
       "    }\n",
       "</style>\n",
       "<table border=\"1\" class=\"dataframe\">\n",
       "  <thead>\n",
       "    <tr style=\"text-align: right;\">\n",
       "      <th></th>\n",
       "      <th>continent</th>\n",
       "      <th>Logged GDP per capita</th>\n",
       "    </tr>\n",
       "  </thead>\n",
       "  <tbody>\n",
       "    <tr>\n",
       "      <th>0</th>\n",
       "      <td>Africa</td>\n",
       "      <td>9.6260</td>\n",
       "    </tr>\n",
       "    <tr>\n",
       "      <th>1</th>\n",
       "      <td>America</td>\n",
       "      <td>9.5875</td>\n",
       "    </tr>\n",
       "    <tr>\n",
       "      <th>2</th>\n",
       "      <td>Asia</td>\n",
       "      <td>9.3825</td>\n",
       "    </tr>\n",
       "    <tr>\n",
       "      <th>3</th>\n",
       "      <td>Europe</td>\n",
       "      <td>9.5935</td>\n",
       "    </tr>\n",
       "    <tr>\n",
       "      <th>4</th>\n",
       "      <td>Oceania</td>\n",
       "      <td>9.3695</td>\n",
       "    </tr>\n",
       "  </tbody>\n",
       "</table>\n",
       "</div>"
      ],
      "text/plain": [
       "  continent  Logged GDP per capita\n",
       "0    Africa                 9.6260\n",
       "1   America                 9.5875\n",
       "2      Asia                 9.3825\n",
       "3    Europe                 9.5935\n",
       "4   Oceania                 9.3695"
      ]
     },
     "execution_count": 22,
     "metadata": {},
     "output_type": "execute_result"
    }
   ],
   "source": [
    "GDP=all_data.groupby('continent')['Logged GDP per capita'].median().to_frame().reset_index()\n",
    "GDP"
   ]
  },
  {
   "cell_type": "code",
   "execution_count": 23,
   "id": "f0410062",
   "metadata": {},
   "outputs": [
    {
     "data": {
      "image/png": "[encoded data removed]",
      "text/plain": [
       "<Figure size 432x288 with 1 Axes>"
      ]
     },
     "metadata": {
      "needs_background": "light"
     },
     "output_type": "display_data"
    }
   ],
   "source": [
    "sns.boxplot(x='continent',y='Logged GDP per capita',data=all_data)\n",
    "plt.show()"
   ]
  },
  {
   "cell_type": "code",
   "execution_count": 24,
   "id": "aeb2e748",
   "metadata": {},
   "outputs": [
    {
     "data": {
      "text/html": [
       "<div>\n",
       "<style scoped>\n",
       "    .dataframe tbody tr th:only-of-type {\n",
       "        vertical-align: middle;\n",
       "    }\n",
       "\n",
       "    .dataframe tbody tr th {\n",
       "        vertical-align: top;\n",
       "    }\n",
       "\n",
       "    .dataframe thead th {\n",
       "        text-align: right;\n",
       "    }\n",
       "</style>\n",
       "<table border=\"1\" class=\"dataframe\">\n",
       "  <thead>\n",
       "    <tr style=\"text-align: right;\">\n",
       "      <th></th>\n",
       "      <th>continent</th>\n",
       "      <th>population (thousands)</th>\n",
       "    </tr>\n",
       "  </thead>\n",
       "  <tbody>\n",
       "    <tr>\n",
       "      <th>0</th>\n",
       "      <td>Africa</td>\n",
       "      <td>8.579673e+08</td>\n",
       "    </tr>\n",
       "    <tr>\n",
       "      <th>1</th>\n",
       "      <td>America</td>\n",
       "      <td>9.265919e+08</td>\n",
       "    </tr>\n",
       "    <tr>\n",
       "      <th>2</th>\n",
       "      <td>Asia</td>\n",
       "      <td>4.118819e+09</td>\n",
       "    </tr>\n",
       "    <tr>\n",
       "      <th>3</th>\n",
       "      <td>Europe</td>\n",
       "      <td>5.545680e+08</td>\n",
       "    </tr>\n",
       "    <tr>\n",
       "      <th>4</th>\n",
       "      <td>Oceania</td>\n",
       "      <td>3.028131e+07</td>\n",
       "    </tr>\n",
       "  </tbody>\n",
       "</table>\n",
       "</div>"
      ],
      "text/plain": [
       "  continent  population (thousands)\n",
       "0    Africa            8.579673e+08\n",
       "1   America            9.265919e+08\n",
       "2      Asia            4.118819e+09\n",
       "3    Europe            5.545680e+08\n",
       "4   Oceania            3.028131e+07"
      ]
     },
     "execution_count": 24,
     "metadata": {},
     "output_type": "execute_result"
    }
   ],
   "source": [
    "pie_chart_area_label=all_data_no_nan.groupby('continent')['population (thousands)'].sum().reset_index()\n",
    "pie_chart_area_label"
   ]
  },
  {
   "cell_type": "code",
   "execution_count": 25,
   "id": "60512754",
   "metadata": {},
   "outputs": [
    {
     "data": {
      "image/png": "[encoded data removed]",
      "text/plain": [
       "<Figure size 432x288 with 1 Axes>"
      ]
     },
     "metadata": {},
     "output_type": "display_data"
    }
   ],
   "source": [
    "population_size = pie_chart_label['population (thousands)']\n",
    "\n",
    "fig, ax = plt.subplots()\n",
    "my_labels = pie_chart_label['continent']\n",
    "ax.pie(x=population_size, labels=my_labels, autopct='%1.1f%%')\n",
    "ax.axis('equal')  \n",
    "ax.set_title('population portion by continent')\n",
    "\n",
    "plt.show()"
   ]
  },
  {
   "cell_type": "code",
   "execution_count": 26,
   "id": "bf8f2f12",
   "metadata": {},
   "outputs": [
    {
     "data": {
      "text/html": [
       "<div>\n",
       "<style scoped>\n",
       "    .dataframe tbody tr th:only-of-type {\n",
       "        vertical-align: middle;\n",
       "    }\n",
       "\n",
       "    .dataframe tbody tr th {\n",
       "        vertical-align: top;\n",
       "    }\n",
       "\n",
       "    .dataframe thead th {\n",
       "        text-align: right;\n",
       "    }\n",
       "</style>\n",
       "<table border=\"1\" class=\"dataframe\">\n",
       "  <thead>\n",
       "    <tr style=\"text-align: right;\">\n",
       "      <th></th>\n",
       "      <th>continent</th>\n",
       "      <th>area</th>\n",
       "    </tr>\n",
       "  </thead>\n",
       "  <tbody>\n",
       "    <tr>\n",
       "      <th>0</th>\n",
       "      <td>Africa</td>\n",
       "      <td>19681375.0</td>\n",
       "    </tr>\n",
       "    <tr>\n",
       "      <th>1</th>\n",
       "      <td>America</td>\n",
       "      <td>28366150.0</td>\n",
       "    </tr>\n",
       "    <tr>\n",
       "      <th>2</th>\n",
       "      <td>Asia</td>\n",
       "      <td>27650376.0</td>\n",
       "    </tr>\n",
       "    <tr>\n",
       "      <th>3</th>\n",
       "      <td>Europe</td>\n",
       "      <td>5099675.0</td>\n",
       "    </tr>\n",
       "    <tr>\n",
       "      <th>4</th>\n",
       "      <td>Oceania</td>\n",
       "      <td>7962491.0</td>\n",
       "    </tr>\n",
       "  </tbody>\n",
       "</table>\n",
       "</div>"
      ],
      "text/plain": [
       "  continent        area\n",
       "0    Africa  19681375.0\n",
       "1   America  28366150.0\n",
       "2      Asia  27650376.0\n",
       "3    Europe   5099675.0\n",
       "4   Oceania   7962491.0"
      ]
     },
     "execution_count": 26,
     "metadata": {},
     "output_type": "execute_result"
    }
   ],
   "source": [
    "pie_chart_area_label=all_data_no_nan.groupby('continent')['area'].sum().reset_index()\n",
    "pie_chart_area_label"
   ]
  },
  {
   "cell_type": "code",
   "execution_count": 27,
   "id": "f4ac1002",
   "metadata": {},
   "outputs": [
    {
     "data": {
      "image/png": "[encoded data removed]",
      "text/plain": [
       "<Figure size 432x288 with 1 Axes>"
      ]
     },
     "metadata": {},
     "output_type": "display_data"
    }
   ],
   "source": [
    "area_portion = pie_chart_area_label['area']\n",
    "\n",
    "fig, ax = plt.subplots()\n",
    "my_labels = pie_chart_area_label['continent']\n",
    "ax.pie(x=area_portion, labels=my_labels, autopct='%1.1f%%')\n",
    "ax.axis('equal')  \n",
    "ax.set_title('area portion by continent')\n",
    "\n",
    "plt.show()"
   ]
  },
  {
   "cell_type": "markdown",
   "id": "c8145f81",
   "metadata": {},
   "source": [
    "Data measurments: min,max,count,sum"
   ]
  },
  {
   "cell_type": "code",
   "execution_count": 12,
   "id": "57bbed46-5a58-45af-b4a8-ed388034bfab",
   "metadata": {
    "scrolled": true
   },
   "outputs": [
    {
     "data": {
      "text/html": [
       "<div>\n",
       "<style scoped>\n",
       "    .dataframe tbody tr th:only-of-type {\n",
       "        vertical-align: middle;\n",
       "    }\n",
       "\n",
       "    .dataframe tbody tr th {\n",
       "        vertical-align: top;\n",
       "    }\n",
       "\n",
       "    .dataframe thead th {\n",
       "        text-align: right;\n",
       "    }\n",
       "</style>\n",
       "<table border=\"1\" class=\"dataframe\">\n",
       "  <thead>\n",
       "    <tr style=\"text-align: right;\">\n",
       "      <th></th>\n",
       "      <th>Country name</th>\n",
       "      <th>continent</th>\n",
       "      <th>Regional indicator</th>\n",
       "      <th>Ladder score</th>\n",
       "      <th>Standard error of ladder score</th>\n",
       "      <th>upperwhisker</th>\n",
       "      <th>lowerwhisker</th>\n",
       "      <th>Logged GDP per capita</th>\n",
       "      <th>Social support</th>\n",
       "      <th>Healthy life expectancy</th>\n",
       "      <th>...</th>\n",
       "      <th>Dystopia + residual</th>\n",
       "      <th>area</th>\n",
       "      <th>population (thousands)</th>\n",
       "      <th>avg precipitation</th>\n",
       "      <th>disFromEquator</th>\n",
       "      <th>unemployed_rate</th>\n",
       "      <th>AvgTemp</th>\n",
       "      <th>standard_of_living_num</th>\n",
       "      <th>standard_of_living</th>\n",
       "      <th>independence_year</th>\n",
       "    </tr>\n",
       "  </thead>\n",
       "  <tbody>\n",
       "    <tr>\n",
       "      <th>148</th>\n",
       "      <td>Zimbabwe</td>\n",
       "      <td>Africa</td>\n",
       "      <td>South Asia</td>\n",
       "      <td>2.523</td>\n",
       "      <td>0.038</td>\n",
       "      <td>2.596</td>\n",
       "      <td>2.449</td>\n",
       "      <td>7.695</td>\n",
       "      <td>0.463</td>\n",
       "      <td>52.493</td>\n",
       "      <td>...</td>\n",
       "      <td>1.895</td>\n",
       "      <td>390757.0</td>\n",
       "      <td>14645468.0</td>\n",
       "      <td>657.0</td>\n",
       "      <td>-1979.838807</td>\n",
       "      <td>5.73</td>\n",
       "      <td>21.0</td>\n",
       "      <td>0.571</td>\n",
       "      <td>bad</td>\n",
       "      <td>1980.0</td>\n",
       "    </tr>\n",
       "  </tbody>\n",
       "</table>\n",
       "<p>1 rows × 30 columns</p>\n",
       "</div>"
      ],
      "text/plain": [
       "    Country name continent Regional indicator  Ladder score  \\\n",
       "148     Zimbabwe    Africa         South Asia         2.523   \n",
       "\n",
       "     Standard error of ladder score  upperwhisker  lowerwhisker  \\\n",
       "148                           0.038         2.596         2.449   \n",
       "\n",
       "     Logged GDP per capita  Social support  Healthy life expectancy  ...  \\\n",
       "148                  7.695           0.463                   52.493  ...   \n",
       "\n",
       "     Dystopia + residual      area  population (thousands)  avg precipitation  \\\n",
       "148                1.895  390757.0              14645468.0              657.0   \n",
       "\n",
       "     disFromEquator  unemployed_rate  AvgTemp  standard_of_living_num  \\\n",
       "148    -1979.838807             5.73     21.0                   0.571   \n",
       "\n",
       "     standard_of_living  independence_year  \n",
       "148                 bad             1980.0  \n",
       "\n",
       "[1 rows x 30 columns]"
      ]
     },
     "execution_count": 12,
     "metadata": {},
     "output_type": "execute_result"
    }
   ],
   "source": [
    "all_data[all_data['Ladder score']==all_data['Ladder score'].min()]"
   ]
  },
  {
   "cell_type": "code",
   "execution_count": 13,
   "id": "70cdf9b5-1857-419e-b5aa-a1e967d1d4b5",
   "metadata": {},
   "outputs": [
    {
     "data": {
      "text/html": [
       "<div>\n",
       "<style scoped>\n",
       "    .dataframe tbody tr th:only-of-type {\n",
       "        vertical-align: middle;\n",
       "    }\n",
       "\n",
       "    .dataframe tbody tr th {\n",
       "        vertical-align: top;\n",
       "    }\n",
       "\n",
       "    .dataframe thead th {\n",
       "        text-align: right;\n",
       "    }\n",
       "</style>\n",
       "<table border=\"1\" class=\"dataframe\">\n",
       "  <thead>\n",
       "    <tr style=\"text-align: right;\">\n",
       "      <th></th>\n",
       "      <th>Country name</th>\n",
       "      <th>continent</th>\n",
       "      <th>Regional indicator</th>\n",
       "      <th>Ladder score</th>\n",
       "      <th>Standard error of ladder score</th>\n",
       "      <th>upperwhisker</th>\n",
       "      <th>lowerwhisker</th>\n",
       "      <th>Logged GDP per capita</th>\n",
       "      <th>Social support</th>\n",
       "      <th>Healthy life expectancy</th>\n",
       "      <th>...</th>\n",
       "      <th>Dystopia + residual</th>\n",
       "      <th>area</th>\n",
       "      <th>population (thousands)</th>\n",
       "      <th>avg precipitation</th>\n",
       "      <th>disFromEquator</th>\n",
       "      <th>unemployed_rate</th>\n",
       "      <th>AvgTemp</th>\n",
       "      <th>standard_of_living_num</th>\n",
       "      <th>standard_of_living</th>\n",
       "      <th>independence_year</th>\n",
       "    </tr>\n",
       "  </thead>\n",
       "  <tbody>\n",
       "    <tr>\n",
       "      <th>0</th>\n",
       "      <td>Afghanistan</td>\n",
       "      <td>Asia</td>\n",
       "      <td>Western Europe</td>\n",
       "      <td>7.842</td>\n",
       "      <td>0.032</td>\n",
       "      <td>7.904</td>\n",
       "      <td>7.78</td>\n",
       "      <td>10.775</td>\n",
       "      <td>0.954</td>\n",
       "      <td>72.0</td>\n",
       "      <td>...</td>\n",
       "      <td>3.253</td>\n",
       "      <td>652230.0</td>\n",
       "      <td>38041754.0</td>\n",
       "      <td>327.0</td>\n",
       "      <td>3834.685659</td>\n",
       "      <td>11.73</td>\n",
       "      <td>12.6</td>\n",
       "      <td>0.511</td>\n",
       "      <td>bad</td>\n",
       "      <td>1919.0</td>\n",
       "    </tr>\n",
       "  </tbody>\n",
       "</table>\n",
       "<p>1 rows × 30 columns</p>\n",
       "</div>"
      ],
      "text/plain": [
       "  Country name continent Regional indicator  Ladder score  \\\n",
       "0  Afghanistan      Asia     Western Europe         7.842   \n",
       "\n",
       "   Standard error of ladder score  upperwhisker  lowerwhisker  \\\n",
       "0                           0.032         7.904          7.78   \n",
       "\n",
       "   Logged GDP per capita  Social support  Healthy life expectancy  ...  \\\n",
       "0                 10.775           0.954                     72.0  ...   \n",
       "\n",
       "   Dystopia + residual      area  population (thousands)  avg precipitation  \\\n",
       "0                3.253  652230.0              38041754.0              327.0   \n",
       "\n",
       "   disFromEquator  unemployed_rate  AvgTemp  standard_of_living_num  \\\n",
       "0     3834.685659            11.73     12.6                   0.511   \n",
       "\n",
       "   standard_of_living  independence_year  \n",
       "0                 bad             1919.0  \n",
       "\n",
       "[1 rows x 30 columns]"
      ]
     },
     "execution_count": 13,
     "metadata": {},
     "output_type": "execute_result"
    }
   ],
   "source": [
    "all_data[all_data['Ladder score']==all_data['Ladder score'].max()]"
   ]
  },
  {
   "cell_type": "code",
   "execution_count": 14,
   "id": "36ce90ee-e9c7-4d37-9e77-589a74e8fab8",
   "metadata": {},
   "outputs": [
    {
     "data": {
      "text/html": [
       "<div>\n",
       "<style scoped>\n",
       "    .dataframe tbody tr th:only-of-type {\n",
       "        vertical-align: middle;\n",
       "    }\n",
       "\n",
       "    .dataframe tbody tr th {\n",
       "        vertical-align: top;\n",
       "    }\n",
       "\n",
       "    .dataframe thead th {\n",
       "        text-align: right;\n",
       "    }\n",
       "</style>\n",
       "<table border=\"1\" class=\"dataframe\">\n",
       "  <thead>\n",
       "    <tr style=\"text-align: right;\">\n",
       "      <th></th>\n",
       "      <th>Regional indicator</th>\n",
       "      <th>Country name</th>\n",
       "    </tr>\n",
       "  </thead>\n",
       "  <tbody>\n",
       "    <tr>\n",
       "      <th>0</th>\n",
       "      <td>Sub-Saharan Africa</td>\n",
       "      <td>36</td>\n",
       "    </tr>\n",
       "    <tr>\n",
       "      <th>1</th>\n",
       "      <td>Western Europe</td>\n",
       "      <td>21</td>\n",
       "    </tr>\n",
       "    <tr>\n",
       "      <th>2</th>\n",
       "      <td>Latin America and Caribbean</td>\n",
       "      <td>20</td>\n",
       "    </tr>\n",
       "    <tr>\n",
       "      <th>3</th>\n",
       "      <td>Central and Eastern Europe</td>\n",
       "      <td>17</td>\n",
       "    </tr>\n",
       "    <tr>\n",
       "      <th>4</th>\n",
       "      <td>Middle East and North Africa</td>\n",
       "      <td>17</td>\n",
       "    </tr>\n",
       "    <tr>\n",
       "      <th>5</th>\n",
       "      <td>Commonwealth of Independent States</td>\n",
       "      <td>12</td>\n",
       "    </tr>\n",
       "    <tr>\n",
       "      <th>6</th>\n",
       "      <td>Southeast Asia</td>\n",
       "      <td>9</td>\n",
       "    </tr>\n",
       "    <tr>\n",
       "      <th>7</th>\n",
       "      <td>South Asia</td>\n",
       "      <td>7</td>\n",
       "    </tr>\n",
       "    <tr>\n",
       "      <th>8</th>\n",
       "      <td>East Asia</td>\n",
       "      <td>6</td>\n",
       "    </tr>\n",
       "    <tr>\n",
       "      <th>9</th>\n",
       "      <td>North America and ANZ</td>\n",
       "      <td>4</td>\n",
       "    </tr>\n",
       "  </tbody>\n",
       "</table>\n",
       "</div>"
      ],
      "text/plain": [
       "                   Regional indicator  Country name\n",
       "0                  Sub-Saharan Africa            36\n",
       "1                      Western Europe            21\n",
       "2         Latin America and Caribbean            20\n",
       "3          Central and Eastern Europe            17\n",
       "4        Middle East and North Africa            17\n",
       "5  Commonwealth of Independent States            12\n",
       "6                      Southeast Asia             9\n",
       "7                          South Asia             7\n",
       "8                           East Asia             6\n",
       "9               North America and ANZ             4"
      ]
     },
     "execution_count": 14,
     "metadata": {},
     "output_type": "execute_result"
    }
   ],
   "source": [
    "all_data.groupby('Regional indicator').size().sort_values(ascending=False) \\\n",
    "  .reset_index(name='Country name')"
   ]
  },
  {
   "cell_type": "code",
   "execution_count": 15,
   "id": "1e4b7a5d-9bc3-4628-83b7-a48993408c1e",
   "metadata": {},
   "outputs": [
    {
     "data": {
      "text/html": [
       "<div>\n",
       "<style scoped>\n",
       "    .dataframe tbody tr th:only-of-type {\n",
       "        vertical-align: middle;\n",
       "    }\n",
       "\n",
       "    .dataframe tbody tr th {\n",
       "        vertical-align: top;\n",
       "    }\n",
       "\n",
       "    .dataframe thead th {\n",
       "        text-align: right;\n",
       "    }\n",
       "</style>\n",
       "<table border=\"1\" class=\"dataframe\">\n",
       "  <thead>\n",
       "    <tr style=\"text-align: right;\">\n",
       "      <th></th>\n",
       "      <th>continent</th>\n",
       "      <th>Country name</th>\n",
       "    </tr>\n",
       "  </thead>\n",
       "  <tbody>\n",
       "    <tr>\n",
       "      <th>0</th>\n",
       "      <td>Asia</td>\n",
       "      <td>44</td>\n",
       "    </tr>\n",
       "    <tr>\n",
       "      <th>1</th>\n",
       "      <td>Africa</td>\n",
       "      <td>41</td>\n",
       "    </tr>\n",
       "    <tr>\n",
       "      <th>2</th>\n",
       "      <td>Europe</td>\n",
       "      <td>40</td>\n",
       "    </tr>\n",
       "    <tr>\n",
       "      <th>3</th>\n",
       "      <td>America</td>\n",
       "      <td>22</td>\n",
       "    </tr>\n",
       "    <tr>\n",
       "      <th>4</th>\n",
       "      <td>Oceania</td>\n",
       "      <td>2</td>\n",
       "    </tr>\n",
       "  </tbody>\n",
       "</table>\n",
       "</div>"
      ],
      "text/plain": [
       "  continent  Country name\n",
       "0      Asia            44\n",
       "1    Africa            41\n",
       "2    Europe            40\n",
       "3   America            22\n",
       "4   Oceania             2"
      ]
     },
     "execution_count": 15,
     "metadata": {},
     "output_type": "execute_result"
    }
   ],
   "source": [
    "all_data.groupby('continent').size().sort_values(ascending=False) \\\n",
    "  .reset_index(name='Country name')"
   ]
  },
  {
   "cell_type": "markdown",
   "id": "6c672f7c",
   "metadata": {},
   "source": [
    "Null identifications and Extra calculations"
   ]
  },
  {
   "cell_type": "code",
   "execution_count": 16,
   "id": "ffc1bee9-ce80-4cce-a0e1-70cd5f1d0277",
   "metadata": {},
   "outputs": [
    {
     "data": {
      "text/plain": [
       "Country name                                   0\n",
       "continent                                      0\n",
       "Regional indicator                             0\n",
       "Ladder score                                   0\n",
       "Standard error of ladder score                 0\n",
       "upperwhisker                                   0\n",
       "lowerwhisker                                   0\n",
       "Logged GDP per capita                          0\n",
       "Social support                                 0\n",
       "Healthy life expectancy                        0\n",
       "Freedom to make life choices                   0\n",
       "Generosity                                     0\n",
       "Perceptions of corruption                      0\n",
       "Ladder score in Dystopia                       0\n",
       "Explained by: Log GDP per capita               0\n",
       "Explained by: Social support                   0\n",
       "Explained by: Healthy life expectancy          0\n",
       "Explained by: Freedom to make life choices     0\n",
       "Explained by: Generosity                       0\n",
       "Explained by: Perceptions of corruption        0\n",
       "Dystopia + residual                            0\n",
       "area                                           7\n",
       "population (thousands)                        17\n",
       "avg precipitation                             20\n",
       "disFromEquator                                12\n",
       "unemployed_rate                               18\n",
       "AvgTemp                                       18\n",
       "standard_of_living_num                         0\n",
       "standard_of_living                             8\n",
       "independence_year                              5\n",
       "dtype: int64"
      ]
     },
     "execution_count": 16,
     "metadata": {},
     "output_type": "execute_result"
    }
   ],
   "source": [
    " all_data.isnull().sum()"
   ]
  },
  {
   "cell_type": "code",
   "execution_count": 17,
   "id": "2e55250f",
   "metadata": {},
   "outputs": [],
   "source": [
    "all_data_no_nan = all_data.copy().dropna()"
   ]
  },
  {
   "cell_type": "code",
   "execution_count": 18,
   "id": "b3ce9d1e",
   "metadata": {},
   "outputs": [
    {
     "data": {
      "text/html": [
       "<div>\n",
       "<style scoped>\n",
       "    .dataframe tbody tr th:only-of-type {\n",
       "        vertical-align: middle;\n",
       "    }\n",
       "\n",
       "    .dataframe tbody tr th {\n",
       "        vertical-align: top;\n",
       "    }\n",
       "\n",
       "    .dataframe thead th {\n",
       "        text-align: right;\n",
       "    }\n",
       "</style>\n",
       "<table border=\"1\" class=\"dataframe\">\n",
       "  <thead>\n",
       "    <tr style=\"text-align: right;\">\n",
       "      <th></th>\n",
       "      <th>continent</th>\n",
       "      <th>population (thousands)</th>\n",
       "    </tr>\n",
       "  </thead>\n",
       "  <tbody>\n",
       "    <tr>\n",
       "      <th>0</th>\n",
       "      <td>Africa</td>\n",
       "      <td>8.579673e+08</td>\n",
       "    </tr>\n",
       "    <tr>\n",
       "      <th>1</th>\n",
       "      <td>America</td>\n",
       "      <td>9.265919e+08</td>\n",
       "    </tr>\n",
       "    <tr>\n",
       "      <th>2</th>\n",
       "      <td>Asia</td>\n",
       "      <td>4.118819e+09</td>\n",
       "    </tr>\n",
       "    <tr>\n",
       "      <th>3</th>\n",
       "      <td>Europe</td>\n",
       "      <td>5.545680e+08</td>\n",
       "    </tr>\n",
       "    <tr>\n",
       "      <th>4</th>\n",
       "      <td>Oceania</td>\n",
       "      <td>3.028131e+07</td>\n",
       "    </tr>\n",
       "  </tbody>\n",
       "</table>\n",
       "</div>"
      ],
      "text/plain": [
       "  continent  population (thousands)\n",
       "0    Africa            8.579673e+08\n",
       "1   America            9.265919e+08\n",
       "2      Asia            4.118819e+09\n",
       "3    Europe            5.545680e+08\n",
       "4   Oceania            3.028131e+07"
      ]
     },
     "execution_count": 18,
     "metadata": {},
     "output_type": "execute_result"
    }
   ],
   "source": [
    "pie_chart_label=all_data_no_nan.groupby('continent')['population (thousands)'].sum().reset_index()\n",
    "pie_chart_label"
   ]
  },
  {
   "cell_type": "code",
   "execution_count": 19,
   "id": "e6926d27",
   "metadata": {},
   "outputs": [
    {
     "data": {
      "text/html": [
       "<div>\n",
       "<style scoped>\n",
       "    .dataframe tbody tr th:only-of-type {\n",
       "        vertical-align: middle;\n",
       "    }\n",
       "\n",
       "    .dataframe tbody tr th {\n",
       "        vertical-align: top;\n",
       "    }\n",
       "\n",
       "    .dataframe thead th {\n",
       "        text-align: right;\n",
       "    }\n",
       "</style>\n",
       "<table border=\"1\" class=\"dataframe\">\n",
       "  <thead>\n",
       "    <tr style=\"text-align: right;\">\n",
       "      <th></th>\n",
       "      <th>population_precentage</th>\n",
       "    </tr>\n",
       "  </thead>\n",
       "  <tbody>\n",
       "    <tr>\n",
       "      <th>0</th>\n",
       "      <td>0.004836</td>\n",
       "    </tr>\n",
       "    <tr>\n",
       "      <th>1</th>\n",
       "      <td>0.000363</td>\n",
       "    </tr>\n",
       "    <tr>\n",
       "      <th>2</th>\n",
       "      <td>0.005473</td>\n",
       "    </tr>\n",
       "    <tr>\n",
       "      <th>3</th>\n",
       "      <td>0.005713</td>\n",
       "    </tr>\n",
       "    <tr>\n",
       "      <th>4</th>\n",
       "      <td>0.000376</td>\n",
       "    </tr>\n",
       "    <tr>\n",
       "      <th>...</th>\n",
       "      <td>...</td>\n",
       "    </tr>\n",
       "    <tr>\n",
       "      <th>144</th>\n",
       "      <td>NaN</td>\n",
       "    </tr>\n",
       "    <tr>\n",
       "      <th>145</th>\n",
       "      <td>0.012263</td>\n",
       "    </tr>\n",
       "    <tr>\n",
       "      <th>146</th>\n",
       "      <td>NaN</td>\n",
       "    </tr>\n",
       "    <tr>\n",
       "      <th>147</th>\n",
       "      <td>0.002271</td>\n",
       "    </tr>\n",
       "    <tr>\n",
       "      <th>148</th>\n",
       "      <td>0.001862</td>\n",
       "    </tr>\n",
       "  </tbody>\n",
       "</table>\n",
       "<p>149 rows × 1 columns</p>\n",
       "</div>"
      ],
      "text/plain": [
       "     population_precentage\n",
       "0                 0.004836\n",
       "1                 0.000363\n",
       "2                 0.005473\n",
       "3                 0.005713\n",
       "4                 0.000376\n",
       "..                     ...\n",
       "144                    NaN\n",
       "145               0.012263\n",
       "146                    NaN\n",
       "147               0.002271\n",
       "148               0.001862\n",
       "\n",
       "[149 rows x 1 columns]"
      ]
     },
     "execution_count": 19,
     "metadata": {},
     "output_type": "execute_result"
    }
   ],
   "source": [
    "all_data['population_precentage']=all_data['population (thousands)'].apply(lambda x: x/7866403556)\n",
    "all_data['population_precentage'].to_frame()"
   ]
  },
  {
   "cell_type": "markdown",
   "id": "47027cd8",
   "metadata": {},
   "source": [
    "Correlation examination: Diagnostic  Analysis "
   ]
  },
  {
   "cell_type": "code",
   "execution_count": 28,
   "id": "9caa1c46",
   "metadata": {},
   "outputs": [
    {
     "data": {
      "text/plain": [
       "Index(['Country name', 'continent', 'Regional indicator', 'Ladder score',\n",
       "       'Standard error of ladder score', 'upperwhisker', 'lowerwhisker',\n",
       "       'Logged GDP per capita', 'Social support', 'Healthy life expectancy',\n",
       "       'Freedom to make life choices', 'Generosity',\n",
       "       'Perceptions of corruption', 'Ladder score in Dystopia',\n",
       "       'Explained by: Log GDP per capita', 'Explained by: Social support',\n",
       "       'Explained by: Healthy life expectancy',\n",
       "       'Explained by: Freedom to make life choices',\n",
       "       'Explained by: Generosity', 'Explained by: Perceptions of corruption',\n",
       "       'Dystopia + residual', 'area', 'population (thousands)',\n",
       "       'avg precipitation', 'disFromEquator', 'unemployed_rate', 'AvgTemp',\n",
       "       'standard_of_living_num', 'standard_of_living', 'independence_year'],\n",
       "      dtype='object')"
      ]
     },
     "execution_count": 28,
     "metadata": {},
     "output_type": "execute_result"
    }
   ],
   "source": [
    "all_data_no_nan.columns"
   ]
  },
  {
   "cell_type": "code",
   "execution_count": 29,
   "id": "71a86faa",
   "metadata": {},
   "outputs": [],
   "source": [
    "all_data_no_nan.drop(columns=['upperwhisker','lowerwhisker','Ladder score in Dystopia','Explained by: Log GDP per capita','Explained by: Social support',\n",
    "       'Explained by: Healthy life expectancy','Explained by: Freedom to make life choices',\n",
    "                              'Explained by: Generosity', 'Explained by: Perceptions of corruption'],inplace=True,axis=1)"
   ]
  },
  {
   "cell_type": "code",
   "execution_count": 30,
   "id": "66710bed-e8e0-4579-a851-72040626a0d5",
   "metadata": {
    "scrolled": false
   },
   "outputs": [],
   "source": [
    "correlation_all_data_no_nan = all_data_no_nan.corr()"
   ]
  },
  {
   "cell_type": "code",
   "execution_count": 31,
   "id": "9ceedaab",
   "metadata": {},
   "outputs": [
    {
     "data": {
      "image/png": "[encoded data removed]",
      "text/plain": [
       "<Figure size 792x648 with 2 Axes>"
      ]
     },
     "metadata": {
      "needs_background": "light"
     },
     "output_type": "display_data"
    }
   ],
   "source": [
    "corr=correlation_all_data_no_nan.corr()\n",
    "plt.subplots(figsize=(11,9))\n",
    "sns.heatmap(corr, cmap='coolwarm')\n",
    "plt.show()"
   ]
  },
  {
   "cell_type": "code",
   "execution_count": 32,
   "id": "5402b67a",
   "metadata": {},
   "outputs": [
    {
     "data": {
      "image/png": "[encoded data removed]",
      "text/plain": [
       "<Figure size 432x288 with 1 Axes>"
      ]
     },
     "metadata": {
      "needs_background": "light"
     },
     "output_type": "display_data"
    }
   ],
   "source": [
    "ax1 = correlation_all_data_no_nan['Ladder score'].to_frame().reset_index().plot.scatter(x='index', y='Ladder score', c='DarkBlue')\n",
    "plt.xticks(rotation=90)\n",
    "plt.grid()\n",
    "plt.show()"
   ]
  },
  {
   "cell_type": "code",
   "execution_count": 33,
   "id": "e61a981d",
   "metadata": {},
   "outputs": [
    {
     "data": {
      "text/plain": [
       "Index(['index', 'Ladder score'], dtype='object')"
      ]
     },
     "execution_count": 33,
     "metadata": {},
     "output_type": "execute_result"
    }
   ],
   "source": [
    "correlation_all_data_no_nan['Ladder score'].to_frame().reset_index().columns"
   ]
  },
  {
   "cell_type": "markdown",
   "id": "2a9e5ee7",
   "metadata": {},
   "source": [
    "Showing interesting correlations between the Ladder score and all of the other parameters, from the not null dataset (customized dataset)"
   ]
  },
  {
   "cell_type": "code",
   "execution_count": 34,
   "id": "c1aa87cd",
   "metadata": {},
   "outputs": [
    {
     "data": {
      "image/png": "[encoded data removed]",
      "text/plain": [
       "<Figure size 432x288 with 1 Axes>"
      ]
     },
     "metadata": {
      "needs_background": "light"
     },
     "output_type": "display_data"
    }
   ],
   "source": [
    "ax1 = all_data_no_nan.plot.scatter(x='Logged GDP per capita', y='Ladder score', c='DarkBlue')\n",
    "plt.xticks(rotation=90)\n",
    "plt.grid()\n",
    "plt.show()"
   ]
  },
  {
   "cell_type": "code",
   "execution_count": 35,
   "id": "603865d3",
   "metadata": {},
   "outputs": [
    {
     "data": {
      "image/png": "[encoded data removed]",
      "text/plain": [
       "<Figure size 432x288 with 1 Axes>"
      ]
     },
     "metadata": {
      "needs_background": "light"
     },
     "output_type": "display_data"
    }
   ],
   "source": [
    "ax1 = all_data_no_nan.plot.scatter(x='Social support', y='Ladder score', c='DarkBlue')\n",
    "plt.xticks(rotation=90)\n",
    "plt.grid()\n",
    "plt.show()"
   ]
  },
  {
   "cell_type": "code",
   "execution_count": 36,
   "id": "c6b20764",
   "metadata": {},
   "outputs": [
    {
     "data": {
      "image/png": "[encoded data removed]",
      "text/plain": [
       "<Figure size 432x288 with 1 Axes>"
      ]
     },
     "metadata": {
      "needs_background": "light"
     },
     "output_type": "display_data"
    }
   ],
   "source": [
    "ax1 = all_data_no_nan.plot.scatter(x='Healthy life expectancy', y='Ladder score', c='DarkBlue')\n",
    "plt.xticks(rotation=90)\n",
    "plt.grid()\n",
    "plt.show()"
   ]
  },
  {
   "cell_type": "code",
   "execution_count": 37,
   "id": "ff1ca9cf",
   "metadata": {},
   "outputs": [
    {
     "data": {
      "image/png": "[encoded data removed]",
      "text/plain": [
       "<Figure size 432x288 with 1 Axes>"
      ]
     },
     "metadata": {
      "needs_background": "light"
     },
     "output_type": "display_data"
    }
   ],
   "source": [
    "ax1 = all_data_no_nan.plot.scatter(x='Freedom to make life choices', y='Ladder score', c='DarkBlue')\n",
    "plt.xticks(rotation=90)\n",
    "plt.grid()\n",
    "plt.show()"
   ]
  },
  {
   "cell_type": "code",
   "execution_count": 38,
   "id": "966f6b7e",
   "metadata": {},
   "outputs": [
    {
     "data": {
      "image/png": "[encoded data removed]",
      "text/plain": [
       "<Figure size 432x288 with 1 Axes>"
      ]
     },
     "metadata": {
      "needs_background": "light"
     },
     "output_type": "display_data"
    }
   ],
   "source": [
    "ax1 = all_data_no_nan.plot.scatter(x='Generosity', y='Ladder score', c='DarkBlue')\n",
    "plt.xticks(rotation=90)\n",
    "plt.grid()\n",
    "plt.show()"
   ]
  },
  {
   "cell_type": "code",
   "execution_count": 39,
   "id": "e9ac99d0",
   "metadata": {},
   "outputs": [
    {
     "data": {
      "image/png": "[encoded data removed]",
      "text/plain": [
       "<Figure size 432x288 with 1 Axes>"
      ]
     },
     "metadata": {
      "needs_background": "light"
     },
     "output_type": "display_data"
    }
   ],
   "source": [
    "ax1 = all_data_no_nan.plot.scatter(x='Perceptions of corruption', y='Ladder score', c='DarkBlue')\n",
    "plt.xticks(rotation=90)\n",
    "plt.grid()\n",
    "plt.show()"
   ]
  },
  {
   "cell_type": "code",
   "execution_count": 40,
   "id": "7b627810",
   "metadata": {},
   "outputs": [
    {
     "data": {
      "image/png": "[encoded data removed]",
      "text/plain": [
       "<Figure size 432x288 with 1 Axes>"
      ]
     },
     "metadata": {
      "needs_background": "light"
     },
     "output_type": "display_data"
    }
   ],
   "source": [
    "ax1 = all_data_no_nan.plot.scatter(x='Dystopia + residual', y='Ladder score', c='DarkBlue')\n",
    "plt.xticks(rotation=90)\n",
    "plt.grid()\n",
    "plt.show()"
   ]
  },
  {
   "cell_type": "code",
   "execution_count": 41,
   "id": "60568884",
   "metadata": {},
   "outputs": [
    {
     "data": {
      "image/png": "[encoded data removed]",
      "text/plain": [
       "<Figure size 432x288 with 1 Axes>"
      ]
     },
     "metadata": {
      "needs_background": "light"
     },
     "output_type": "display_data"
    }
   ],
   "source": [
    "ax1 = all_data_no_nan.plot.scatter(x='area', y='Ladder score', c='DarkBlue')\n",
    "plt.xticks(rotation=90)\n",
    "plt.grid()\n",
    "plt.show()"
   ]
  },
  {
   "cell_type": "code",
   "execution_count": 42,
   "id": "09d90c12",
   "metadata": {},
   "outputs": [
    {
     "data": {
      "image/png": "[encoded data removed]",
      "text/plain": [
       "<Figure size 432x288 with 1 Axes>"
      ]
     },
     "metadata": {
      "needs_background": "light"
     },
     "output_type": "display_data"
    }
   ],
   "source": [
    "ax1 = all_data_no_nan.plot.scatter(x='population (thousands)', y='Ladder score', c='DarkBlue')\n",
    "plt.xticks(rotation=90)\n",
    "plt.grid()\n",
    "plt.show()"
   ]
  },
  {
   "cell_type": "code",
   "execution_count": 43,
   "id": "334e923d",
   "metadata": {},
   "outputs": [
    {
     "data": {
      "image/png": "[encoded data removed]",
      "text/plain": [
       "<Figure size 432x288 with 1 Axes>"
      ]
     },
     "metadata": {
      "needs_background": "light"
     },
     "output_type": "display_data"
    }
   ],
   "source": [
    "ax1 = all_data_no_nan.plot.scatter(x='avg precipitation', y='Ladder score', c='DarkBlue')\n",
    "plt.xticks(rotation=90)\n",
    "plt.grid()\n",
    "plt.show()"
   ]
  },
  {
   "cell_type": "code",
   "execution_count": 44,
   "id": "3b5360f4",
   "metadata": {},
   "outputs": [
    {
     "data": {
      "image/png": "[encoded data removed]",
      "text/plain": [
       "<Figure size 432x288 with 1 Axes>"
      ]
     },
     "metadata": {
      "needs_background": "light"
     },
     "output_type": "display_data"
    }
   ],
   "source": [
    "ax1 = all_data_no_nan.plot.scatter(x='disFromEquator', y='Ladder score', c='DarkBlue')\n",
    "plt.xticks(rotation=90)\n",
    "plt.grid()\n",
    "plt.show()"
   ]
  },
  {
   "cell_type": "code",
   "execution_count": 45,
   "id": "2a430e7b",
   "metadata": {},
   "outputs": [
    {
     "data": {
      "image/png": "[encoded data removed]",
      "text/plain": [
       "<Figure size 432x288 with 1 Axes>"
      ]
     },
     "metadata": {
      "needs_background": "light"
     },
     "output_type": "display_data"
    }
   ],
   "source": [
    "ax1 = all_data_no_nan.plot.scatter(x='unemployed_rate', y='Ladder score', c='DarkBlue')\n",
    "plt.xticks(rotation=90)\n",
    "plt.grid()\n",
    "plt.show()"
   ]
  },
  {
   "cell_type": "code",
   "execution_count": 46,
   "id": "30df3a1d",
   "metadata": {},
   "outputs": [
    {
     "data": {
      "image/png": "[encoded data removed]",
      "text/plain": [
       "<Figure size 432x288 with 1 Axes>"
      ]
     },
     "metadata": {
      "needs_background": "light"
     },
     "output_type": "display_data"
    }
   ],
   "source": [
    "ax1 = all_data_no_nan.plot.scatter(x='AvgTemp', y='Ladder score', c='DarkBlue')\n",
    "plt.xticks(rotation=90)\n",
    "plt.grid()\n",
    "plt.show()"
   ]
  },
  {
   "cell_type": "code",
   "execution_count": 47,
   "id": "53bf7581",
   "metadata": {},
   "outputs": [
    {
     "data": {
      "image/png": "[encoded data removed]",
      "text/plain": [
       "<Figure size 432x288 with 1 Axes>"
      ]
     },
     "metadata": {
      "needs_background": "light"
     },
     "output_type": "display_data"
    }
   ],
   "source": [
    "ax1 = all_data_no_nan.plot.scatter(x='independence_year', y='Ladder score', c='DarkBlue')\n",
    "plt.xticks(rotation=90)\n",
    "plt.grid()\n",
    "plt.show()"
   ]
  },
  {
   "cell_type": "markdown",
   "id": "2913f2aa",
   "metadata": {},
   "source": [
    "Interesting correlation between 2 parameters (not Ladder Score)"
   ]
  },
  {
   "cell_type": "code",
   "execution_count": 48,
   "id": "a872296c",
   "metadata": {},
   "outputs": [
    {
     "data": {
      "image/png": "[encoded data removed]",
      "text/plain": [
       "<Figure size 432x288 with 1 Axes>"
      ]
     },
     "metadata": {
      "needs_background": "light"
     },
     "output_type": "display_data"
    }
   ],
   "source": [
    "ax1 = all_data_no_nan.plot.scatter(x='area', y='population (thousands)', c='DarkBlue')\n",
    "plt.xticks(rotation=90)\n",
    "plt.grid()\n",
    "plt.show()"
   ]
  },
  {
   "cell_type": "code",
   "execution_count": 49,
   "id": "48445cfd",
   "metadata": {},
   "outputs": [
    {
     "data": {
      "image/png": "[encoded data removed]",
      "text/plain": [
       "<Figure size 432x288 with 1 Axes>"
      ]
     },
     "metadata": {
      "needs_background": "light"
     },
     "output_type": "display_data"
    }
   ],
   "source": [
    "ax1 = all_data_no_nan.plot.scatter(x='AvgTemp', y='disFromEquator', c='DarkBlue')\n",
    "plt.xticks(rotation=90)\n",
    "plt.grid()\n",
    "plt.show()"
   ]
  },
  {
   "cell_type": "code",
   "execution_count": 50,
   "id": "392d6811",
   "metadata": {},
   "outputs": [
    {
     "data": {
      "image/png": "[encoded data removed]",
      "text/plain": [
       "<Figure size 432x288 with 1 Axes>"
      ]
     },
     "metadata": {
      "needs_background": "light"
     },
     "output_type": "display_data"
    }
   ],
   "source": [
    "ax1 = all_data_no_nan.plot.scatter(x='Freedom to make life choices', y='Perceptions of corruption', c='DarkBlue')\n",
    "plt.xticks(rotation=90)\n",
    "plt.grid()\n",
    "plt.show() "
   ]
  },
  {
   "cell_type": "code",
   "execution_count": 51,
   "id": "8cfee23b",
   "metadata": {},
   "outputs": [],
   "source": [
    "clean_data=all_data_no_nan.copy().drop(['Country name','continent','Regional indicator','standard_of_living'],axis=1)\n",
    "clean_data.to_csv(r\"C:\\Users\\User\\Desktop\\Final Project\\clean_data.csv\", index=False)"
   ]
  },
  {
   "cell_type": "code",
   "execution_count": 52,
   "id": "d4207f52",
   "metadata": {},
   "outputs": [
    {
     "data": {
      "text/html": [
       "<div>\n",
       "<style scoped>\n",
       "    .dataframe tbody tr th:only-of-type {\n",
       "        vertical-align: middle;\n",
       "    }\n",
       "\n",
       "    .dataframe tbody tr th {\n",
       "        vertical-align: top;\n",
       "    }\n",
       "\n",
       "    .dataframe thead th {\n",
       "        text-align: right;\n",
       "    }\n",
       "</style>\n",
       "<table border=\"1\" class=\"dataframe\">\n",
       "  <thead>\n",
       "    <tr style=\"text-align: right;\">\n",
       "      <th></th>\n",
       "      <th>Ladder score</th>\n",
       "      <th>Standard error of ladder score</th>\n",
       "      <th>Logged GDP per capita</th>\n",
       "      <th>Social support</th>\n",
       "      <th>Healthy life expectancy</th>\n",
       "      <th>Freedom to make life choices</th>\n",
       "      <th>Generosity</th>\n",
       "      <th>Perceptions of corruption</th>\n",
       "      <th>Dystopia + residual</th>\n",
       "      <th>area</th>\n",
       "      <th>population (thousands)</th>\n",
       "      <th>avg precipitation</th>\n",
       "      <th>disFromEquator</th>\n",
       "      <th>unemployed_rate</th>\n",
       "      <th>AvgTemp</th>\n",
       "      <th>standard_of_living_num</th>\n",
       "      <th>independence_year</th>\n",
       "    </tr>\n",
       "  </thead>\n",
       "  <tbody>\n",
       "    <tr>\n",
       "      <th>0</th>\n",
       "      <td>7.842</td>\n",
       "      <td>0.032</td>\n",
       "      <td>10.775</td>\n",
       "      <td>0.954</td>\n",
       "      <td>72.0</td>\n",
       "      <td>0.949</td>\n",
       "      <td>-0.098</td>\n",
       "      <td>0.186</td>\n",
       "      <td>3.253</td>\n",
       "      <td>652230.0</td>\n",
       "      <td>38041754.0</td>\n",
       "      <td>327.0</td>\n",
       "      <td>3834.685659</td>\n",
       "      <td>11.730000</td>\n",
       "      <td>12.60</td>\n",
       "      <td>0.511</td>\n",
       "      <td>1919.0</td>\n",
       "    </tr>\n",
       "    <tr>\n",
       "      <th>1</th>\n",
       "      <td>7.620</td>\n",
       "      <td>0.035</td>\n",
       "      <td>10.933</td>\n",
       "      <td>0.954</td>\n",
       "      <td>72.7</td>\n",
       "      <td>0.946</td>\n",
       "      <td>0.030</td>\n",
       "      <td>0.179</td>\n",
       "      <td>2.868</td>\n",
       "      <td>28748.0</td>\n",
       "      <td>2854191.0</td>\n",
       "      <td>1485.0</td>\n",
       "      <td>4589.478939</td>\n",
       "      <td>11.700000</td>\n",
       "      <td>11.40</td>\n",
       "      <td>0.795</td>\n",
       "      <td>1912.0</td>\n",
       "    </tr>\n",
       "    <tr>\n",
       "      <th>2</th>\n",
       "      <td>7.571</td>\n",
       "      <td>0.036</td>\n",
       "      <td>11.117</td>\n",
       "      <td>0.942</td>\n",
       "      <td>74.4</td>\n",
       "      <td>0.919</td>\n",
       "      <td>0.025</td>\n",
       "      <td>0.292</td>\n",
       "      <td>2.839</td>\n",
       "      <td>2381741.0</td>\n",
       "      <td>43053054.0</td>\n",
       "      <td>89.0</td>\n",
       "      <td>4083.825629</td>\n",
       "      <td>12.830000</td>\n",
       "      <td>22.50</td>\n",
       "      <td>0.748</td>\n",
       "      <td>1962.0</td>\n",
       "    </tr>\n",
       "    <tr>\n",
       "      <th>3</th>\n",
       "      <td>7.554</td>\n",
       "      <td>0.059</td>\n",
       "      <td>10.878</td>\n",
       "      <td>0.983</td>\n",
       "      <td>73.0</td>\n",
       "      <td>0.955</td>\n",
       "      <td>0.160</td>\n",
       "      <td>0.673</td>\n",
       "      <td>2.967</td>\n",
       "      <td>2780400.0</td>\n",
       "      <td>44938712.0</td>\n",
       "      <td>591.0</td>\n",
       "      <td>-3842.114552</td>\n",
       "      <td>11.670000</td>\n",
       "      <td>14.80</td>\n",
       "      <td>0.845</td>\n",
       "      <td>1816.0</td>\n",
       "    </tr>\n",
       "    <tr>\n",
       "      <th>4</th>\n",
       "      <td>7.464</td>\n",
       "      <td>0.027</td>\n",
       "      <td>10.932</td>\n",
       "      <td>0.942</td>\n",
       "      <td>72.4</td>\n",
       "      <td>0.913</td>\n",
       "      <td>0.175</td>\n",
       "      <td>0.338</td>\n",
       "      <td>2.798</td>\n",
       "      <td>29743.0</td>\n",
       "      <td>2957731.0</td>\n",
       "      <td>562.0</td>\n",
       "      <td>4461.932955</td>\n",
       "      <td>20.209999</td>\n",
       "      <td>7.15</td>\n",
       "      <td>0.776</td>\n",
       "      <td>1991.0</td>\n",
       "    </tr>\n",
       "  </tbody>\n",
       "</table>\n",
       "</div>"
      ],
      "text/plain": [
       "   Ladder score  Standard error of ladder score  Logged GDP per capita  \\\n",
       "0         7.842                           0.032                 10.775   \n",
       "1         7.620                           0.035                 10.933   \n",
       "2         7.571                           0.036                 11.117   \n",
       "3         7.554                           0.059                 10.878   \n",
       "4         7.464                           0.027                 10.932   \n",
       "\n",
       "   Social support  Healthy life expectancy  Freedom to make life choices  \\\n",
       "0           0.954                     72.0                         0.949   \n",
       "1           0.954                     72.7                         0.946   \n",
       "2           0.942                     74.4                         0.919   \n",
       "3           0.983                     73.0                         0.955   \n",
       "4           0.942                     72.4                         0.913   \n",
       "\n",
       "   Generosity  Perceptions of corruption  Dystopia + residual       area  \\\n",
       "0      -0.098                      0.186                3.253   652230.0   \n",
       "1       0.030                      0.179                2.868    28748.0   \n",
       "2       0.025                      0.292                2.839  2381741.0   \n",
       "3       0.160                      0.673                2.967  2780400.0   \n",
       "4       0.175                      0.338                2.798    29743.0   \n",
       "\n",
       "   population (thousands)  avg precipitation  disFromEquator  unemployed_rate  \\\n",
       "0              38041754.0              327.0     3834.685659        11.730000   \n",
       "1               2854191.0             1485.0     4589.478939        11.700000   \n",
       "2              43053054.0               89.0     4083.825629        12.830000   \n",
       "3              44938712.0              591.0    -3842.114552        11.670000   \n",
       "4               2957731.0              562.0     4461.932955        20.209999   \n",
       "\n",
       "   AvgTemp  standard_of_living_num  independence_year  \n",
       "0    12.60                   0.511             1919.0  \n",
       "1    11.40                   0.795             1912.0  \n",
       "2    22.50                   0.748             1962.0  \n",
       "3    14.80                   0.845             1816.0  \n",
       "4     7.15                   0.776             1991.0  "
      ]
     },
     "execution_count": 52,
     "metadata": {},
     "output_type": "execute_result"
    }
   ],
   "source": [
    "clean_data.head()"
   ]
  },
  {
   "cell_type": "code",
   "execution_count": 53,
   "id": "f506b1d6",
   "metadata": {},
   "outputs": [
    {
     "data": {
      "text/plain": [
       "0.9231042854897499"
      ]
     },
     "execution_count": 53,
     "metadata": {},
     "output_type": "execute_result"
    }
   ],
   "source": [
    "X_train, X_test, y_train , y_test = train_test_split(clean_data.copy().drop(['Ladder score'],axis=1), clean_data['Ladder score'], test_size=0.33, random_state=1)\n",
    "                                                                                                     \n",
    "regressor = ElasticNet(alpha=0.05)\n",
    "regressor.fit(X_train, y_train)\n",
    "y_pred = regressor.predict(X_test)\n",
    "r2_score(y_test, y_pred)\n"
   ]
  },
  {
   "cell_type": "code",
   "execution_count": 54,
   "id": "1945f733",
   "metadata": {},
   "outputs": [
    {
     "data": {
      "text/plain": [
       "0.07205503681473321"
      ]
     },
     "execution_count": 54,
     "metadata": {},
     "output_type": "execute_result"
    }
   ],
   "source": [
    "mean_squared_error(y_test, y_pred)"
   ]
  },
  {
   "cell_type": "code",
   "execution_count": 55,
   "id": "da65bc06",
   "metadata": {},
   "outputs": [
    {
     "data": {
      "text/html": [
       "<div>\n",
       "<style scoped>\n",
       "    .dataframe tbody tr th:only-of-type {\n",
       "        vertical-align: middle;\n",
       "    }\n",
       "\n",
       "    .dataframe tbody tr th {\n",
       "        vertical-align: top;\n",
       "    }\n",
       "\n",
       "    .dataframe thead th {\n",
       "        text-align: right;\n",
       "    }\n",
       "</style>\n",
       "<table border=\"1\" class=\"dataframe\">\n",
       "  <thead>\n",
       "    <tr style=\"text-align: right;\">\n",
       "      <th></th>\n",
       "      <th>Country name</th>\n",
       "      <th>continent</th>\n",
       "      <th>Regional indicator</th>\n",
       "      <th>Ladder score</th>\n",
       "      <th>Standard error of ladder score</th>\n",
       "      <th>Logged GDP per capita</th>\n",
       "      <th>Social support</th>\n",
       "      <th>Healthy life expectancy</th>\n",
       "      <th>Freedom to make life choices</th>\n",
       "      <th>Generosity</th>\n",
       "      <th>...</th>\n",
       "      <th>avg precipitation</th>\n",
       "      <th>disFromEquator</th>\n",
       "      <th>unemployed_rate</th>\n",
       "      <th>AvgTemp</th>\n",
       "      <th>standard_of_living_num</th>\n",
       "      <th>standard_of_living</th>\n",
       "      <th>independence_year</th>\n",
       "      <th>pred</th>\n",
       "      <th>error</th>\n",
       "      <th>absolute_error</th>\n",
       "    </tr>\n",
       "  </thead>\n",
       "  <tbody>\n",
       "    <tr>\n",
       "      <th>46</th>\n",
       "      <td>Ghana</td>\n",
       "      <td>Africa</td>\n",
       "      <td>Middle East and North Africa</td>\n",
       "      <td>6.106</td>\n",
       "      <td>0.066</td>\n",
       "      <td>10.817</td>\n",
       "      <td>0.843</td>\n",
       "      <td>66.900</td>\n",
       "      <td>0.867</td>\n",
       "      <td>-0.104</td>\n",
       "      <td>...</td>\n",
       "      <td>1187.0</td>\n",
       "      <td>622.261387</td>\n",
       "      <td>4.53</td>\n",
       "      <td>27.20</td>\n",
       "      <td>0.611</td>\n",
       "      <td>medium</td>\n",
       "      <td>1957.0</td>\n",
       "      <td>[6.107549975037195]</td>\n",
       "      <td>[-0.001549975037194784]</td>\n",
       "      <td>0.00</td>\n",
       "    </tr>\n",
       "    <tr>\n",
       "      <th>78</th>\n",
       "      <td>Luxembourg</td>\n",
       "      <td>Europe</td>\n",
       "      <td>Southeast Asia</td>\n",
       "      <td>5.411</td>\n",
       "      <td>0.039</td>\n",
       "      <td>8.973</td>\n",
       "      <td>0.850</td>\n",
       "      <td>68.034</td>\n",
       "      <td>0.940</td>\n",
       "      <td>-0.098</td>\n",
       "      <td>...</td>\n",
       "      <td>934.0</td>\n",
       "      <td>5508.995980</td>\n",
       "      <td>6.96</td>\n",
       "      <td>8.65</td>\n",
       "      <td>0.916</td>\n",
       "      <td>good</td>\n",
       "      <td>1815.0</td>\n",
       "      <td>[5.41317703674399]</td>\n",
       "      <td>[-0.0021770367439906124]</td>\n",
       "      <td>0.00</td>\n",
       "    </tr>\n",
       "    <tr>\n",
       "      <th>112</th>\n",
       "      <td>Romania</td>\n",
       "      <td>Europe</td>\n",
       "      <td>Sub-Saharan Africa</td>\n",
       "      <td>4.834</td>\n",
       "      <td>0.081</td>\n",
       "      <td>7.678</td>\n",
       "      <td>0.672</td>\n",
       "      <td>54.151</td>\n",
       "      <td>0.695</td>\n",
       "      <td>-0.009</td>\n",
       "      <td>...</td>\n",
       "      <td>637.0</td>\n",
       "      <td>4930.386278</td>\n",
       "      <td>4.84</td>\n",
       "      <td>8.80</td>\n",
       "      <td>0.828</td>\n",
       "      <td>good</td>\n",
       "      <td>1859.0</td>\n",
       "      <td>[4.822810078250949]</td>\n",
       "      <td>[0.011189921749050313]</td>\n",
       "      <td>0.01</td>\n",
       "    </tr>\n",
       "    <tr>\n",
       "      <th>16</th>\n",
       "      <td>Brazil</td>\n",
       "      <td>America</td>\n",
       "      <td>Western Europe</td>\n",
       "      <td>7.064</td>\n",
       "      <td>0.038</td>\n",
       "      <td>10.707</td>\n",
       "      <td>0.934</td>\n",
       "      <td>72.500</td>\n",
       "      <td>0.859</td>\n",
       "      <td>0.233</td>\n",
       "      <td>...</td>\n",
       "      <td>1761.0</td>\n",
       "      <td>-2615.147951</td>\n",
       "      <td>13.67</td>\n",
       "      <td>24.95</td>\n",
       "      <td>0.765</td>\n",
       "      <td>medium</td>\n",
       "      <td>1822.0</td>\n",
       "      <td>[7.079710716062825]</td>\n",
       "      <td>[-0.01571071606282537]</td>\n",
       "      <td>0.02</td>\n",
       "    </tr>\n",
       "    <tr>\n",
       "      <th>55</th>\n",
       "      <td>India</td>\n",
       "      <td>Asia</td>\n",
       "      <td>East Asia</td>\n",
       "      <td>5.940</td>\n",
       "      <td>0.040</td>\n",
       "      <td>10.611</td>\n",
       "      <td>0.884</td>\n",
       "      <td>75.100</td>\n",
       "      <td>0.796</td>\n",
       "      <td>-0.258</td>\n",
       "      <td>...</td>\n",
       "      <td>1083.0</td>\n",
       "      <td>3182.542134</td>\n",
       "      <td>7.11</td>\n",
       "      <td>23.65</td>\n",
       "      <td>0.645</td>\n",
       "      <td>medium</td>\n",
       "      <td>1947.0</td>\n",
       "      <td>[5.959909310451176]</td>\n",
       "      <td>[-0.019909310451175166]</td>\n",
       "      <td>0.02</td>\n",
       "    </tr>\n",
       "    <tr>\n",
       "      <th>...</th>\n",
       "      <td>...</td>\n",
       "      <td>...</td>\n",
       "      <td>...</td>\n",
       "      <td>...</td>\n",
       "      <td>...</td>\n",
       "      <td>...</td>\n",
       "      <td>...</td>\n",
       "      <td>...</td>\n",
       "      <td>...</td>\n",
       "      <td>...</td>\n",
       "      <td>...</td>\n",
       "      <td>...</td>\n",
       "      <td>...</td>\n",
       "      <td>...</td>\n",
       "      <td>...</td>\n",
       "      <td>...</td>\n",
       "      <td>...</td>\n",
       "      <td>...</td>\n",
       "      <td>...</td>\n",
       "      <td>...</td>\n",
       "      <td>...</td>\n",
       "    </tr>\n",
       "    <tr>\n",
       "      <th>103</th>\n",
       "      <td>Norway</td>\n",
       "      <td>Europe</td>\n",
       "      <td>Middle East and North Africa</td>\n",
       "      <td>4.948</td>\n",
       "      <td>0.046</td>\n",
       "      <td>10.240</td>\n",
       "      <td>0.822</td>\n",
       "      <td>67.199</td>\n",
       "      <td>0.576</td>\n",
       "      <td>-0.139</td>\n",
       "      <td>...</td>\n",
       "      <td>1414.0</td>\n",
       "      <td>6652.812283</td>\n",
       "      <td>4.62</td>\n",
       "      <td>1.50</td>\n",
       "      <td>0.957</td>\n",
       "      <td>good</td>\n",
       "      <td>1905.0</td>\n",
       "      <td>[5.585590219763928]</td>\n",
       "      <td>[-0.6375902197639274]</td>\n",
       "      <td>0.64</td>\n",
       "    </tr>\n",
       "    <tr>\n",
       "      <th>67</th>\n",
       "      <td>Kenya</td>\n",
       "      <td>Africa</td>\n",
       "      <td>Western Europe</td>\n",
       "      <td>5.723</td>\n",
       "      <td>0.046</td>\n",
       "      <td>10.279</td>\n",
       "      <td>0.823</td>\n",
       "      <td>72.600</td>\n",
       "      <td>0.582</td>\n",
       "      <td>-0.288</td>\n",
       "      <td>...</td>\n",
       "      <td>630.0</td>\n",
       "      <td>-142.847948</td>\n",
       "      <td>2.98</td>\n",
       "      <td>24.75</td>\n",
       "      <td>0.601</td>\n",
       "      <td>medium</td>\n",
       "      <td>1963.0</td>\n",
       "      <td>[6.376232209790491]</td>\n",
       "      <td>[-0.6532322097904908]</td>\n",
       "      <td>0.65</td>\n",
       "    </tr>\n",
       "    <tr>\n",
       "      <th>41</th>\n",
       "      <td>France</td>\n",
       "      <td>Europe</td>\n",
       "      <td>Commonwealth of Independent States</td>\n",
       "      <td>6.179</td>\n",
       "      <td>0.068</td>\n",
       "      <td>8.836</td>\n",
       "      <td>0.918</td>\n",
       "      <td>65.255</td>\n",
       "      <td>0.970</td>\n",
       "      <td>0.311</td>\n",
       "      <td>...</td>\n",
       "      <td>867.0</td>\n",
       "      <td>5425.268249</td>\n",
       "      <td>8.62</td>\n",
       "      <td>10.70</td>\n",
       "      <td>0.901</td>\n",
       "      <td>good</td>\n",
       "      <td>1958.0</td>\n",
       "      <td>[5.4721646645322455]</td>\n",
       "      <td>[0.7068353354677548]</td>\n",
       "      <td>0.71</td>\n",
       "    </tr>\n",
       "    <tr>\n",
       "      <th>121</th>\n",
       "      <td>Slovenia</td>\n",
       "      <td>Europe</td>\n",
       "      <td>Middle East and North Africa</td>\n",
       "      <td>4.596</td>\n",
       "      <td>0.058</td>\n",
       "      <td>9.266</td>\n",
       "      <td>0.691</td>\n",
       "      <td>67.201</td>\n",
       "      <td>0.656</td>\n",
       "      <td>-0.201</td>\n",
       "      <td>...</td>\n",
       "      <td>1162.0</td>\n",
       "      <td>5113.610093</td>\n",
       "      <td>5.17</td>\n",
       "      <td>8.90</td>\n",
       "      <td>0.917</td>\n",
       "      <td>good</td>\n",
       "      <td>1991.0</td>\n",
       "      <td>[5.387989362469353]</td>\n",
       "      <td>[-0.7919893624693533]</td>\n",
       "      <td>0.79</td>\n",
       "    </tr>\n",
       "    <tr>\n",
       "      <th>148</th>\n",
       "      <td>Zimbabwe</td>\n",
       "      <td>Africa</td>\n",
       "      <td>South Asia</td>\n",
       "      <td>2.523</td>\n",
       "      <td>0.038</td>\n",
       "      <td>7.695</td>\n",
       "      <td>0.463</td>\n",
       "      <td>52.493</td>\n",
       "      <td>0.382</td>\n",
       "      <td>-0.102</td>\n",
       "      <td>...</td>\n",
       "      <td>657.0</td>\n",
       "      <td>-1979.838807</td>\n",
       "      <td>5.73</td>\n",
       "      <td>21.00</td>\n",
       "      <td>0.571</td>\n",
       "      <td>bad</td>\n",
       "      <td>1980.0</td>\n",
       "      <td>[3.390783500363016]</td>\n",
       "      <td>[-0.8677835003630157]</td>\n",
       "      <td>0.87</td>\n",
       "    </tr>\n",
       "  </tbody>\n",
       "</table>\n",
       "<p>120 rows × 24 columns</p>\n",
       "</div>"
      ],
      "text/plain": [
       "    Country name continent                  Regional indicator  Ladder score  \\\n",
       "46         Ghana    Africa        Middle East and North Africa         6.106   \n",
       "78    Luxembourg    Europe                      Southeast Asia         5.411   \n",
       "112      Romania    Europe                  Sub-Saharan Africa         4.834   \n",
       "16        Brazil   America                      Western Europe         7.064   \n",
       "55         India      Asia                           East Asia         5.940   \n",
       "..           ...       ...                                 ...           ...   \n",
       "103       Norway    Europe        Middle East and North Africa         4.948   \n",
       "67         Kenya    Africa                      Western Europe         5.723   \n",
       "41        France    Europe  Commonwealth of Independent States         6.179   \n",
       "121     Slovenia    Europe        Middle East and North Africa         4.596   \n",
       "148     Zimbabwe    Africa                          South Asia         2.523   \n",
       "\n",
       "     Standard error of ladder score  Logged GDP per capita  Social support  \\\n",
       "46                            0.066                 10.817           0.843   \n",
       "78                            0.039                  8.973           0.850   \n",
       "112                           0.081                  7.678           0.672   \n",
       "16                            0.038                 10.707           0.934   \n",
       "55                            0.040                 10.611           0.884   \n",
       "..                              ...                    ...             ...   \n",
       "103                           0.046                 10.240           0.822   \n",
       "67                            0.046                 10.279           0.823   \n",
       "41                            0.068                  8.836           0.918   \n",
       "121                           0.058                  9.266           0.691   \n",
       "148                           0.038                  7.695           0.463   \n",
       "\n",
       "     Healthy life expectancy  Freedom to make life choices  Generosity  ...  \\\n",
       "46                    66.900                         0.867      -0.104  ...   \n",
       "78                    68.034                         0.940      -0.098  ...   \n",
       "112                   54.151                         0.695      -0.009  ...   \n",
       "16                    72.500                         0.859       0.233  ...   \n",
       "55                    75.100                         0.796      -0.258  ...   \n",
       "..                       ...                           ...         ...  ...   \n",
       "103                   67.199                         0.576      -0.139  ...   \n",
       "67                    72.600                         0.582      -0.288  ...   \n",
       "41                    65.255                         0.970       0.311  ...   \n",
       "121                   67.201                         0.656      -0.201  ...   \n",
       "148                   52.493                         0.382      -0.102  ...   \n",
       "\n",
       "     avg precipitation  disFromEquator  unemployed_rate  AvgTemp  \\\n",
       "46              1187.0      622.261387             4.53    27.20   \n",
       "78               934.0     5508.995980             6.96     8.65   \n",
       "112              637.0     4930.386278             4.84     8.80   \n",
       "16              1761.0    -2615.147951            13.67    24.95   \n",
       "55              1083.0     3182.542134             7.11    23.65   \n",
       "..                 ...             ...              ...      ...   \n",
       "103             1414.0     6652.812283             4.62     1.50   \n",
       "67               630.0     -142.847948             2.98    24.75   \n",
       "41               867.0     5425.268249             8.62    10.70   \n",
       "121             1162.0     5113.610093             5.17     8.90   \n",
       "148              657.0    -1979.838807             5.73    21.00   \n",
       "\n",
       "     standard_of_living_num  standard_of_living  independence_year  \\\n",
       "46                    0.611              medium             1957.0   \n",
       "78                    0.916                good             1815.0   \n",
       "112                   0.828                good             1859.0   \n",
       "16                    0.765              medium             1822.0   \n",
       "55                    0.645              medium             1947.0   \n",
       "..                      ...                 ...                ...   \n",
       "103                   0.957                good             1905.0   \n",
       "67                    0.601              medium             1963.0   \n",
       "41                    0.901                good             1958.0   \n",
       "121                   0.917                good             1991.0   \n",
       "148                   0.571                 bad             1980.0   \n",
       "\n",
       "                     pred                     error absolute_error  \n",
       "46    [6.107549975037195]   [-0.001549975037194784]           0.00  \n",
       "78     [5.41317703674399]  [-0.0021770367439906124]           0.00  \n",
       "112   [4.822810078250949]    [0.011189921749050313]           0.01  \n",
       "16    [7.079710716062825]    [-0.01571071606282537]           0.02  \n",
       "55    [5.959909310451176]   [-0.019909310451175166]           0.02  \n",
       "..                    ...                       ...            ...  \n",
       "103   [5.585590219763928]     [-0.6375902197639274]           0.64  \n",
       "67    [6.376232209790491]     [-0.6532322097904908]           0.65  \n",
       "41   [5.4721646645322455]      [0.7068353354677548]           0.71  \n",
       "121   [5.387989362469353]     [-0.7919893624693533]           0.79  \n",
       "148   [3.390783500363016]     [-0.8677835003630157]           0.87  \n",
       "\n",
       "[120 rows x 24 columns]"
      ]
     },
     "execution_count": 55,
     "metadata": {},
     "output_type": "execute_result"
    }
   ],
   "source": [
    "feature_list = X_test.columns\n",
    "all_data_no_nan['pred'] = all_data_no_nan[feature_list].apply(lambda row: regressor.predict(np.array(row).reshape(1, -1)), axis=1)\n",
    "all_data_no_nan['error']=all_data_no_nan['Ladder score']-all_data_no_nan['pred']\n",
    "all_data_no_nan['absolute_error']=all_data_no_nan['error'].apply(lambda x: round(abs(x[0]), 2))\n",
    "\n",
    "all_data_no_nan.sort_values('absolute_error')\n"
   ]
  },
  {
   "cell_type": "code",
   "execution_count": 56,
   "id": "adc723e6",
   "metadata": {},
   "outputs": [],
   "source": [
    "X = clean_data.copy().drop(['Ladder score'],axis=1)\n",
    "y = clean_data['Ladder score']\n",
    "lasso = linear_model.Lasso(alpha=0.05)"
   ]
  },
  {
   "cell_type": "code",
   "execution_count": 57,
   "id": "78dfdeae",
   "metadata": {},
   "outputs": [
    {
     "data": {
      "text/plain": [
       "0.9191489907498425"
      ]
     },
     "execution_count": 57,
     "metadata": {},
     "output_type": "execute_result"
    }
   ],
   "source": [
    "lasso.fit(X_train, y_train)\n",
    "lasso.score(X, y)"
   ]
  },
  {
   "cell_type": "code",
   "execution_count": 58,
   "id": "4564ccaa",
   "metadata": {},
   "outputs": [
    {
     "name": "stdout",
     "output_type": "stream",
     "text": [
      "{'fit_time': array([0.00299573, 0.00400567, 0.0020237 , 0.00299358, 0.00198126]), 'score_time': array([0.00199175, 0.00197816, 0.00196671, 0.00099826, 0.00199151]), 'test_score': array([-3.38737076, -1.37706288, -1.64796544, -5.35177482, -0.15436855])}\n"
     ]
    }
   ],
   "source": [
    "cv_results = cross_validate(lasso, X, y, cv=5)\n",
    "sorted(cv_results.keys())\n",
    "cv_results['test_score']\n",
    "print(cv_results)"
   ]
  },
  {
   "cell_type": "code",
   "execution_count": 59,
   "id": "a465f92f",
   "metadata": {},
   "outputs": [
    {
     "name": "stdout",
     "output_type": "stream",
     "text": [
      "[-0.55704728 -0.06990285 -0.11739475 -0.12991863 -0.30130154]\n"
     ]
    },
    {
     "data": {
      "text/plain": [
       "dict_keys(['fit_time', 'score_time', 'test_r2', 'train_r2', 'test_neg_mean_squared_error', 'train_neg_mean_squared_error'])"
      ]
     },
     "execution_count": 59,
     "metadata": {},
     "output_type": "execute_result"
    }
   ],
   "source": [
    "scores = cross_validate(lasso, X, y, cv=5, scoring=('r2','neg_mean_squared_error'),return_train_score=True)\n",
    "print(scores['test_neg_mean_squared_error'])\n",
    "scores.keys()"
   ]
  },
  {
   "cell_type": "code",
   "execution_count": 60,
   "id": "537c935b",
   "metadata": {},
   "outputs": [
    {
     "name": "stdout",
     "output_type": "stream",
     "text": [
      "{'fit_time': array([0.00598264, 0.00299239, 0.00398993, 0.00299215, 0.00299191]), 'score_time': array([0.00199533, 0.00199389, 0.0009973 , 0.00199389, 0.0009973 ]), 'test_score': array([ -9.82926904,  -9.80335922, -10.54453587, -41.38362266,\n",
      "        -3.65909126])}\n"
     ]
    }
   ],
   "source": [
    "DecisionTree = tree.DecisionTreeRegressor(splitter='best',random_state=0,criterion='friedman_mse')\n",
    "cv_results = cross_validate(DecisionTree, X, y, cv=5)\n",
    "print(cv_results) "
   ]
  },
  {
   "cell_type": "code",
   "execution_count": 61,
   "id": "97ae01f6",
   "metadata": {},
   "outputs": [
    {
     "data": {
      "text/plain": [
       "0.9002480476764406"
      ]
     },
     "execution_count": 61,
     "metadata": {},
     "output_type": "execute_result"
    }
   ],
   "source": [
    "DecisionTree.fit(X_train, y_train)\n",
    "DecisionTree.score(X, y)"
   ]
  },
  {
   "cell_type": "code",
   "execution_count": 62,
   "id": "8a0526e4",
   "metadata": {},
   "outputs": [],
   "source": [
    "neigh = KNeighborsRegressor(n_neighbors=5,weights='distance',algorithm='brute',metric='seuclidean')"
   ]
  },
  {
   "cell_type": "code",
   "execution_count": 63,
   "id": "afeaaeaa",
   "metadata": {},
   "outputs": [
    {
     "name": "stderr",
     "output_type": "stream",
     "text": [
      "c:\\users\\user\\pycharmprojects\\finalprojectshecodes\\venv\\lib\\site-packages\\sklearn\\metrics\\pairwise.py:1450: FutureWarning: from version 1.0 (renaming of 0.25), pairwise_distances for metric='seuclidean' will require V to be specified if Y is passed.\n",
      "  warnings.warn(\n"
     ]
    },
    {
     "data": {
      "text/plain": [
       "0.9347478612745789"
      ]
     },
     "execution_count": 63,
     "metadata": {},
     "output_type": "execute_result"
    }
   ],
   "source": [
    "neigh.fit(X_train, y_train)\n",
    "neigh.score(X, y)"
   ]
  },
  {
   "cell_type": "code",
   "execution_count": 64,
   "id": "a9a372d2",
   "metadata": {},
   "outputs": [
    {
     "name": "stderr",
     "output_type": "stream",
     "text": [
      "c:\\users\\user\\pycharmprojects\\finalprojectshecodes\\venv\\lib\\site-packages\\sklearn\\metrics\\pairwise.py:1450: FutureWarning: from version 1.0 (renaming of 0.25), pairwise_distances for metric='seuclidean' will require V to be specified if Y is passed.\n",
      "  warnings.warn(\n",
      "c:\\users\\user\\pycharmprojects\\finalprojectshecodes\\venv\\lib\\site-packages\\sklearn\\metrics\\pairwise.py:1450: FutureWarning: from version 1.0 (renaming of 0.25), pairwise_distances for metric='seuclidean' will require V to be specified if Y is passed.\n",
      "  warnings.warn(\n",
      "c:\\users\\user\\pycharmprojects\\finalprojectshecodes\\venv\\lib\\site-packages\\sklearn\\metrics\\pairwise.py:1450: FutureWarning: from version 1.0 (renaming of 0.25), pairwise_distances for metric='seuclidean' will require V to be specified if Y is passed.\n",
      "  warnings.warn(\n",
      "c:\\users\\user\\pycharmprojects\\finalprojectshecodes\\venv\\lib\\site-packages\\sklearn\\metrics\\pairwise.py:1450: FutureWarning: from version 1.0 (renaming of 0.25), pairwise_distances for metric='seuclidean' will require V to be specified if Y is passed.\n",
      "  warnings.warn(\n",
      "c:\\users\\user\\pycharmprojects\\finalprojectshecodes\\venv\\lib\\site-packages\\sklearn\\metrics\\pairwise.py:1450: FutureWarning: from version 1.0 (renaming of 0.25), pairwise_distances for metric='seuclidean' will require V to be specified if Y is passed.\n",
      "  warnings.warn(\n"
     ]
    },
    {
     "data": {
      "image/png": "[encoded data removed]",
      "text/plain": [
       "<Figure size 432x288 with 1 Axes>"
      ]
     },
     "metadata": {
      "needs_background": "light"
     },
     "output_type": "display_data"
    }
   ],
   "source": [
    "models = [DecisionTree,lasso,regressor,neigh]\n",
    "results = []\n",
    "names = ['DecisionTree','lasso','ElasticNet','KNeighborsRegressor']\n",
    "for model in models:\n",
    "    cv_results = cross_validate(model,X, y, cv=5, scoring=('neg_root_mean_squared_error'))\n",
    "    results.append(cv_results['test_score'])\n",
    "\n",
    "fig = plt.figure()\n",
    "fig.suptitle('Regression Algorithm Comparison')\n",
    "plt.boxplot(results)\n",
    "plt.xticks([1,2,3,4],names,rotation='vertical')\n",
    "plt.show()"
   ]
  },
  {
   "cell_type": "markdown",
   "id": "eef8a9af",
   "metadata": {},
   "source": [
    "KPI's"
   ]
  },
  {
   "cell_type": "code",
   "execution_count": 66,
   "id": "639d7d02",
   "metadata": {},
   "outputs": [
    {
     "name": "stdout",
     "output_type": "stream",
     "text": [
      "R2 (explained variance): 0.61\n",
      "Mean Absolute Perc Error (Σ(|y-pred|/y)/n): 0.09\n",
      "Root Mean Squared Error (sqrt(Σ(y-pred)^2/n)): 0.6028293705519\n",
      "Max Error: 1.61\n"
     ]
    }
   ],
   "source": [
    "print(\"R2 (explained variance):\", round(metrics.r2_score(y_test, y_pred), 2))\n",
    "print(\"Mean Absolute Perc Error (Σ(|y-pred|/y)/n):\", round(np.mean(np.abs((y_test-y_pred)/y_pred)), 2))\n",
    "print(\"Root Mean Squared Error (sqrt(Σ(y-pred)^2/n)):\", (np.sqrt(metrics.mean_squared_error(y_test, y_pred))))\n",
    "print(\"Max Error:\", round(metrics.max_error(y_test, y_pred),2))"
   ]
  },
  {
   "cell_type": "markdown",
   "id": "f5e03cb0",
   "metadata": {},
   "source": [
    "Residuals - DecisionTree model"
   ]
  },
  {
   "cell_type": "code",
   "execution_count": 65,
   "id": "1dbe5e8b",
   "metadata": {
    "scrolled": true
   },
   "outputs": [
    {
     "data": {
      "image/png": "[encoded data removed]",
      "text/plain": [
       "<Figure size 360x360 with 1 Axes>"
      ]
     },
     "metadata": {
      "needs_background": "light"
     },
     "output_type": "display_data"
    }
   ],
   "source": [
    "model = DecisionTree\n",
    "results = model.fit(X_train, y_train)\n",
    "y_pred = model.predict(X_test)\n",
    "residuals = y_test - y_pred\n",
    "\n",
    "sns.displot(residuals, color=\"red\")\n",
    "plt.show()"
   ]
  },
  {
   "cell_type": "markdown",
   "id": "1de36634",
   "metadata": {},
   "source": [
    "Feature importance - DecisionTree model"
   ]
  },
  {
   "cell_type": "code",
   "execution_count": 68,
   "id": "76e626ee",
   "metadata": {},
   "outputs": [
    {
     "name": "stdout",
     "output_type": "stream",
     "text": [
      "[3.32246824e-03 7.13123646e-03 6.14057133e-01 2.21468467e-01\n",
      " 1.07054033e-02 6.24737378e-04 1.10148194e-02 1.02810717e-01\n",
      " 8.13272950e-03 2.52849611e-06 6.29149739e-04 3.76493700e-03\n",
      " 1.60175625e-02 1.51478745e-04 1.15847184e-04 5.07850117e-05]\n"
     ]
    }
   ],
   "source": [
    "print(importance)"
   ]
  },
  {
   "cell_type": "code",
   "execution_count": 67,
   "id": "fd839c4d",
   "metadata": {},
   "outputs": [
    {
     "name": "stdout",
     "output_type": "stream",
     "text": [
      "Feature: Standard error of ladder score, Score: 0.003322\n",
      "Feature: Logged GDP per capita, Score: 0.007131\n",
      "Feature: Social support, Score: 0.614057\n",
      "Feature: Healthy life expectancy, Score: 0.221468\n",
      "Feature: Freedom to make life choices, Score: 0.010705\n",
      "Feature: Generosity, Score: 0.000625\n",
      "Feature: Perceptions of corruption, Score: 0.011015\n",
      "Feature: Dystopia + residual, Score: 0.102811\n",
      "Feature: area, Score: 0.008133\n",
      "Feature: population (thousands), Score: 0.000003\n",
      "Feature: avg precipitation, Score: 0.000629\n",
      "Feature: disFromEquator, Score: 0.003765\n",
      "Feature: unemployed_rate, Score: 0.016018\n",
      "Feature: AvgTemp, Score: 0.000151\n",
      "Feature: standard_of_living_num, Score: 0.000116\n",
      "Feature: independence_year, Score: 0.000051\n"
     ]
    },
    {
     "data": {
      "image/png": "[encoded data removed]",
      "text/plain": [
       "<Figure size 432x288 with 1 Axes>"
      ]
     },
     "metadata": {
      "needs_background": "light"
     },
     "output_type": "display_data"
    }
   ],
   "source": [
    "model = DecisionTree\n",
    "\n",
    "model.fit(X_train, y_train)\n",
    "\n",
    "importance = model.feature_importances_\n",
    "\n",
    "feature_names= X_train.columns\n",
    "for feature_name, score in zip(feature_names, importance):\n",
    "    print('Feature: %s, Score: %f' % (feature_name,score))\n",
    "\n",
    "pyplot.bar([x for x in range(len(importance))], importance)\n",
    "plt.xticks([0,1,2,3,4,5,6,7,8,9,10,11,12,13,14,15],feature_names,rotation='vertical')\n",
    "pyplot.show()"
   ]
  },
  {
   "cell_type": "markdown",
   "id": "9e26947e",
   "metadata": {},
   "source": [
    "Predicted vs True"
   ]
  },
  {
   "cell_type": "code",
   "execution_count": 69,
   "id": "e6b48e80",
   "metadata": {},
   "outputs": [],
   "source": [
    "max_error = max(residuals) if abs(max(residuals)) > abs(min(residuals)) else min(residuals)\n",
    "max_idx = list(residuals).index(max(residuals)) if abs(max(residuals)) > abs(min(residuals)) else list(residuals).index(min(residuals))\n",
    "\n",
    "max_true, max_pred = list(y_test)[max_idx], list(y_pred)[max_idx]\n"
   ]
  },
  {
   "cell_type": "code",
   "execution_count": 70,
   "id": "bcced28d",
   "metadata": {
    "scrolled": true
   },
   "outputs": [
    {
     "data": {
      "image/png": "[encoded data removed]",
      "text/plain": [
       "<Figure size 432x288 with 1 Axes>"
      ]
     },
     "metadata": {
      "needs_background": "light"
     },
     "output_type": "display_data"
    }
   ],
   "source": [
    "fig, ax = plt.subplots(1, 1)\n",
    "y_pred =  model.predict(X_test)\n",
    "ax.scatter(y_pred, y_test, color=\"black\")\n",
    "abline_plot(intercept=0, slope=1, color=\"red\", ax=ax)\n",
    "ax.vlines(x=max_pred, ymin=max_true, ymax=max_true-max_error, color='red', linestyle='--', alpha=0.7, label=\"max error\")\n",
    "ax.grid(True)\n",
    "ax.set(xlabel=\"Predicted\", ylabel=\"True\", title=\"Predicted vs True\")\n",
    "ax.legend()\n",
    "pyplot.show()"
   ]
  },
  {
   "cell_type": "markdown",
   "id": "0fa84deb",
   "metadata": {},
   "source": [
    "KPI's - lasso model"
   ]
  },
  {
   "cell_type": "code",
   "execution_count": 72,
   "id": "7e0c7b0d",
   "metadata": {},
   "outputs": [
    {
     "name": "stdout",
     "output_type": "stream",
     "text": [
      "R2 (explained variance): 0.92\n",
      "Mean Absolute Perc Error (Σ(|y-pred|/y)/n): 0.04\n",
      "Root Mean Squared Error (sqrt(Σ(y-pred)^2/n)): 0.28190456036985234\n",
      "Max Error: 0.85\n"
     ]
    }
   ],
   "source": [
    "print(\"R2 (explained variance):\", round(metrics.r2_score(y_test, y_pred), 2))\n",
    "print(\"Mean Absolute Perc Error (Σ(|y-pred|/y)/n):\", round(np.mean(np.abs((y_test-y_pred)/y_pred)), 2))\n",
    "print(\"Root Mean Squared Error (sqrt(Σ(y-pred)^2/n)):\", (np.sqrt(metrics.mean_squared_error(y_test, y_pred))))\n",
    "print(\"Max Error:\", round(metrics.max_error(y_test, y_pred),2))"
   ]
  },
  {
   "cell_type": "markdown",
   "id": "7fe049e6",
   "metadata": {},
   "source": [
    "Residuals - lasso model"
   ]
  },
  {
   "cell_type": "code",
   "execution_count": 71,
   "id": "ba8aca3c",
   "metadata": {},
   "outputs": [
    {
     "data": {
      "image/png": "[encoded data removed]",
      "text/plain": [
       "<Figure size 360x360 with 1 Axes>"
      ]
     },
     "metadata": {
      "needs_background": "light"
     },
     "output_type": "display_data"
    }
   ],
   "source": [
    "model = lasso\n",
    "model.fit(X_train, y_train)\n",
    "y_pred = model.predict(X_test)\n",
    "residuals = y_test - y_pred\n",
    "\n",
    "sns.displot(residuals, color=\"blue\")\n",
    "plt.show()"
   ]
  },
  {
   "cell_type": "markdown",
   "id": "a03fbcbd",
   "metadata": {},
   "source": [
    "Feature importance - lasso model"
   ]
  },
  {
   "cell_type": "code",
   "execution_count": 75,
   "id": "1eb6b564",
   "metadata": {},
   "outputs": [
    {
     "name": "stdout",
     "output_type": "stream",
     "text": [
      "[0.00000000e+00 3.61004027e-01 0.00000000e+00 7.10794109e-02\n",
      " 0.00000000e+00 0.00000000e+00 0.00000000e+00 9.09389975e-01\n",
      " 7.42038062e-08 4.56584127e-10 3.32699135e-05 2.68054557e-05\n",
      " 0.00000000e+00 0.00000000e+00 0.00000000e+00 7.32989433e-05]\n"
     ]
    }
   ],
   "source": [
    "print(importance)"
   ]
  },
  {
   "cell_type": "code",
   "execution_count": 74,
   "id": "0a6410c6",
   "metadata": {},
   "outputs": [
    {
     "name": "stdout",
     "output_type": "stream",
     "text": [
      "Feature: Standard error of ladder score, Score: 0.000000\n",
      "Feature: Logged GDP per capita, Score: 0.361004\n",
      "Feature: Social support, Score: 0.000000\n",
      "Feature: Healthy life expectancy, Score: 0.071079\n",
      "Feature: Freedom to make life choices, Score: 0.000000\n",
      "Feature: Generosity, Score: 0.000000\n",
      "Feature: Perceptions of corruption, Score: 0.000000\n",
      "Feature: Dystopia + residual, Score: 0.909390\n",
      "Feature: area, Score: 0.000000\n",
      "Feature: population (thousands), Score: 0.000000\n",
      "Feature: avg precipitation, Score: 0.000033\n",
      "Feature: disFromEquator, Score: 0.000027\n",
      "Feature: unemployed_rate, Score: 0.000000\n",
      "Feature: AvgTemp, Score: 0.000000\n",
      "Feature: standard_of_living_num, Score: 0.000000\n",
      "Feature: independence_year, Score: 0.000073\n"
     ]
    },
    {
     "data": {
      "image/png": "[encoded data removed]",
      "text/plain": [
       "<Figure size 432x288 with 1 Axes>"
      ]
     },
     "metadata": {
      "needs_background": "light"
     },
     "output_type": "display_data"
    }
   ],
   "source": [
    "model= lasso\n",
    "reg = model.fit(X_train, y_train)\n",
    "\n",
    "importance = np.abs(lasso.coef_)\n",
    "feature_names= X_train.columns\n",
    "\n",
    "for feature_name, score in zip(feature_names, importance):\n",
    "    print('Feature: %s, Score: %f' % (feature_name,score))\n",
    "\n",
    "pyplot.bar([x for x in range(len(importance))], importance)\n",
    "plt.xticks([0,1,2,3,4,5,6,7,8,9,10,11,12,13,14,15],feature_names,rotation='vertical')\n",
    "pyplot.show()"
   ]
  },
  {
   "cell_type": "code",
   "execution_count": 76,
   "id": "62c163aa",
   "metadata": {},
   "outputs": [],
   "source": [
    "max_error = max(residuals) if abs(max(residuals)) > abs(min(residuals)) else min(residuals)\n",
    "max_idx = list(residuals).index(max(residuals)) if abs(max(residuals)) > abs(min(residuals)) else list(residuals).index(min(residuals))\n",
    "\n",
    "max_true, max_pred = list(y_test)[max_idx], list(y_pred)[max_idx]\n"
   ]
  },
  {
   "cell_type": "code",
   "execution_count": 77,
   "id": "a457a5c9",
   "metadata": {},
   "outputs": [
    {
     "data": {
      "image/png": "[encoded data removed]",
      "text/plain": [
       "<Figure size 432x288 with 1 Axes>"
      ]
     },
     "metadata": {
      "needs_background": "light"
     },
     "output_type": "display_data"
    }
   ],
   "source": [
    "fig, ax = plt.subplots(1, 1)\n",
    "y_pred =  model.predict(X_test)\n",
    "ax.scatter(y_pred, y_test, color=\"black\")\n",
    "abline_plot(intercept=0, slope=1, color=\"red\", ax=ax)\n",
    "ax.vlines(x=max_pred, ymin=max_true, ymax=max_true-max_error, color='red', linestyle='--', alpha=0.7, label=\"max error\")\n",
    "ax.grid(True)\n",
    "ax.set(xlabel=\"Predicted\", ylabel=\"True\", title=\"Predicted vs True\")\n",
    "ax.legend()\n",
    "pyplot.show()"
   ]
  },
  {
   "cell_type": "markdown",
   "id": "64940db2",
   "metadata": {},
   "source": [
    "KPI's- linear regression model"
   ]
  },
  {
   "cell_type": "code",
   "execution_count": 79,
   "id": "374e330a",
   "metadata": {},
   "outputs": [
    {
     "name": "stdout",
     "output_type": "stream",
     "text": [
      "R2 (explained variance): 0.92\n",
      "Mean Absolute Perc Error (Σ(|y-pred|/y)/n): 0.04\n",
      "Root Mean Squared Error (sqrt(Σ(y-pred)^2/n)): 0.2684306927583603\n",
      "Max Error: 0.79\n"
     ]
    }
   ],
   "source": [
    "print(\"R2 (explained variance):\", round(metrics.r2_score(y_test, y_pred), 2))\n",
    "print(\"Mean Absolute Perc Error (Σ(|y-pred|/y)/n):\", round(np.mean(np.abs((y_test-y_pred)/y_pred)), 2))\n",
    "print(\"Root Mean Squared Error (sqrt(Σ(y-pred)^2/n)):\", (np.sqrt(metrics.mean_squared_error(y_test, y_pred))))\n",
    "print(\"Max Error:\", round(metrics.max_error(y_test, y_pred),2))"
   ]
  },
  {
   "cell_type": "markdown",
   "id": "1ae169d7",
   "metadata": {},
   "source": [
    "Residuals - linear regression "
   ]
  },
  {
   "cell_type": "code",
   "execution_count": 78,
   "id": "309c5e9a",
   "metadata": {},
   "outputs": [
    {
     "data": {
      "image/png": "[encoded data removed]",
      "text/plain": [
       "<Figure size 360x360 with 1 Axes>"
      ]
     },
     "metadata": {
      "needs_background": "light"
     },
     "output_type": "display_data"
    }
   ],
   "source": [
    "model = regressor\n",
    "model.fit(X_train, y_train)\n",
    "y_pred = model.predict(X_test)\n",
    "residuals = y_test - y_pred\n",
    "\n",
    "sns.displot(residuals, color=\"green\")\n",
    "plt.show()"
   ]
  },
  {
   "cell_type": "code",
   "execution_count": 80,
   "id": "4637c5d8",
   "metadata": {},
   "outputs": [
    {
     "data": {
      "text/html": [
       "<div>\n",
       "<style scoped>\n",
       "    .dataframe tbody tr th:only-of-type {\n",
       "        vertical-align: middle;\n",
       "    }\n",
       "\n",
       "    .dataframe tbody tr th {\n",
       "        vertical-align: top;\n",
       "    }\n",
       "\n",
       "    .dataframe thead th {\n",
       "        text-align: right;\n",
       "    }\n",
       "</style>\n",
       "<table border=\"1\" class=\"dataframe\">\n",
       "  <thead>\n",
       "    <tr style=\"text-align: right;\">\n",
       "      <th></th>\n",
       "      <th>Country name</th>\n",
       "      <th>Dystopia + residual</th>\n",
       "      <th>Ladder score</th>\n",
       "    </tr>\n",
       "  </thead>\n",
       "  <tbody>\n",
       "    <tr>\n",
       "      <th>145</th>\n",
       "      <td>Vietnam</td>\n",
       "      <td>0.648</td>\n",
       "      <td>3.467</td>\n",
       "    </tr>\n",
       "    <tr>\n",
       "      <th>128</th>\n",
       "      <td>Switzerland</td>\n",
       "      <td>1.075</td>\n",
       "      <td>4.325</td>\n",
       "    </tr>\n",
       "    <tr>\n",
       "      <th>147</th>\n",
       "      <td>Zambia</td>\n",
       "      <td>1.205</td>\n",
       "      <td>3.145</td>\n",
       "    </tr>\n",
       "    <tr>\n",
       "      <th>76</th>\n",
       "      <td>Libya</td>\n",
       "      <td>1.236</td>\n",
       "      <td>5.477</td>\n",
       "    </tr>\n",
       "    <tr>\n",
       "      <th>141</th>\n",
       "      <td>United States</td>\n",
       "      <td>1.263</td>\n",
       "      <td>3.623</td>\n",
       "    </tr>\n",
       "    <tr>\n",
       "      <th>31</th>\n",
       "      <td>Cyprus</td>\n",
       "      <td>1.379</td>\n",
       "      <td>6.377</td>\n",
       "    </tr>\n",
       "    <tr>\n",
       "      <th>138</th>\n",
       "      <td>Ukraine</td>\n",
       "      <td>1.405</td>\n",
       "      <td>3.819</td>\n",
       "    </tr>\n",
       "    <tr>\n",
       "      <th>125</th>\n",
       "      <td>Sri Lanka</td>\n",
       "      <td>1.407</td>\n",
       "      <td>4.426</td>\n",
       "    </tr>\n",
       "    <tr>\n",
       "      <th>96</th>\n",
       "      <td>Netherlands</td>\n",
       "      <td>1.409</td>\n",
       "      <td>5.066</td>\n",
       "    </tr>\n",
       "    <tr>\n",
       "      <th>88</th>\n",
       "      <td>Moldova</td>\n",
       "      <td>1.520</td>\n",
       "      <td>5.198</td>\n",
       "    </tr>\n",
       "    <tr>\n",
       "      <th>131</th>\n",
       "      <td>Tanzania</td>\n",
       "      <td>1.648</td>\n",
       "      <td>4.283</td>\n",
       "    </tr>\n",
       "    <tr>\n",
       "      <th>73</th>\n",
       "      <td>Lebanon</td>\n",
       "      <td>1.653</td>\n",
       "      <td>5.536</td>\n",
       "    </tr>\n",
       "    <tr>\n",
       "      <th>122</th>\n",
       "      <td>South Africa</td>\n",
       "      <td>1.736</td>\n",
       "      <td>4.584</td>\n",
       "    </tr>\n",
       "    <tr>\n",
       "      <th>140</th>\n",
       "      <td>United Kingdom</td>\n",
       "      <td>1.776</td>\n",
       "      <td>3.658</td>\n",
       "    </tr>\n",
       "    <tr>\n",
       "      <th>80</th>\n",
       "      <td>Malawi</td>\n",
       "      <td>1.784</td>\n",
       "      <td>5.384</td>\n",
       "    </tr>\n",
       "    <tr>\n",
       "      <th>109</th>\n",
       "      <td>Philippines</td>\n",
       "      <td>1.813</td>\n",
       "      <td>4.875</td>\n",
       "    </tr>\n",
       "    <tr>\n",
       "      <th>87</th>\n",
       "      <td>Mexico</td>\n",
       "      <td>1.823</td>\n",
       "      <td>5.266</td>\n",
       "    </tr>\n",
       "    <tr>\n",
       "      <th>103</th>\n",
       "      <td>Norway</td>\n",
       "      <td>1.852</td>\n",
       "      <td>4.948</td>\n",
       "    </tr>\n",
       "    <tr>\n",
       "      <th>148</th>\n",
       "      <td>Zimbabwe</td>\n",
       "      <td>1.895</td>\n",
       "      <td>2.523</td>\n",
       "    </tr>\n",
       "    <tr>\n",
       "      <th>89</th>\n",
       "      <td>Mongolia</td>\n",
       "      <td>1.919</td>\n",
       "      <td>5.171</td>\n",
       "    </tr>\n",
       "    <tr>\n",
       "      <th>136</th>\n",
       "      <td>Turkmenistan</td>\n",
       "      <td>1.975</td>\n",
       "      <td>4.073</td>\n",
       "    </tr>\n",
       "    <tr>\n",
       "      <th>83</th>\n",
       "      <td>Mali</td>\n",
       "      <td>1.982</td>\n",
       "      <td>5.339</td>\n",
       "    </tr>\n",
       "    <tr>\n",
       "      <th>81</th>\n",
       "      <td>Malaysia</td>\n",
       "      <td>1.987</td>\n",
       "      <td>5.345</td>\n",
       "    </tr>\n",
       "  </tbody>\n",
       "</table>\n",
       "</div>"
      ],
      "text/plain": [
       "       Country name  Dystopia + residual  Ladder score\n",
       "145         Vietnam                0.648         3.467\n",
       "128     Switzerland                1.075         4.325\n",
       "147          Zambia                1.205         3.145\n",
       "76            Libya                1.236         5.477\n",
       "141   United States                1.263         3.623\n",
       "31           Cyprus                1.379         6.377\n",
       "138         Ukraine                1.405         3.819\n",
       "125       Sri Lanka                1.407         4.426\n",
       "96      Netherlands                1.409         5.066\n",
       "88          Moldova                1.520         5.198\n",
       "131        Tanzania                1.648         4.283\n",
       "73          Lebanon                1.653         5.536\n",
       "122    South Africa                1.736         4.584\n",
       "140  United Kingdom                1.776         3.658\n",
       "80           Malawi                1.784         5.384\n",
       "109     Philippines                1.813         4.875\n",
       "87           Mexico                1.823         5.266\n",
       "103          Norway                1.852         4.948\n",
       "148        Zimbabwe                1.895         2.523\n",
       "89         Mongolia                1.919         5.171\n",
       "136    Turkmenistan                1.975         4.073\n",
       "83             Mali                1.982         5.339\n",
       "81         Malaysia                1.987         5.345"
      ]
     },
     "execution_count": 80,
     "metadata": {},
     "output_type": "execute_result"
    }
   ],
   "source": [
    "all_data_no_nan[all_data_no_nan['Dystopia + residual']<2][['Country name','Dystopia + residual','Ladder score']].sort_values('Dystopia + residual')\n"
   ]
  },
  {
   "cell_type": "markdown",
   "id": "ba7c5e6d",
   "metadata": {},
   "source": [
    "Feature importance - linear regression model"
   ]
  },
  {
   "cell_type": "code",
   "execution_count": 83,
   "id": "3395cf04",
   "metadata": {},
   "outputs": [
    {
     "name": "stdout",
     "output_type": "stream",
     "text": [
      "[ 0.00000000e+00  3.95074373e-01  0.00000000e+00  6.41537279e-02\n",
      "  6.97722003e-02  0.00000000e+00 -1.34148171e-01  9.10849612e-01\n",
      "  6.69675585e-08 -4.29412746e-10  4.25937954e-05  2.53444572e-05\n",
      " -1.31933330e-04 -2.32102739e-04  0.00000000e+00  4.71996910e-05]\n"
     ]
    }
   ],
   "source": [
    "print(importance)"
   ]
  },
  {
   "cell_type": "code",
   "execution_count": 82,
   "id": "b553bc62",
   "metadata": {},
   "outputs": [
    {
     "name": "stdout",
     "output_type": "stream",
     "text": [
      "Feature: Standard error of ladder score, Score: 0.000000\n",
      "Feature: Logged GDP per capita, Score: 0.395074\n",
      "Feature: Social support, Score: 0.000000\n",
      "Feature: Healthy life expectancy, Score: 0.064154\n",
      "Feature: Freedom to make life choices, Score: 0.069772\n",
      "Feature: Generosity, Score: 0.000000\n",
      "Feature: Perceptions of corruption, Score: -0.134148\n",
      "Feature: Dystopia + residual, Score: 0.910850\n",
      "Feature: area, Score: 0.000000\n",
      "Feature: population (thousands), Score: -0.000000\n",
      "Feature: avg precipitation, Score: 0.000043\n",
      "Feature: disFromEquator, Score: 0.000025\n",
      "Feature: unemployed_rate, Score: -0.000132\n",
      "Feature: AvgTemp, Score: -0.000232\n",
      "Feature: standard_of_living_num, Score: 0.000000\n",
      "Feature: independence_year, Score: 0.000047\n"
     ]
    },
    {
     "data": {
      "image/png": "[encoded data removed]",
      "text/plain": [
       "<Figure size 432x288 with 1 Axes>"
      ]
     },
     "metadata": {
      "needs_background": "light"
     },
     "output_type": "display_data"
    }
   ],
   "source": [
    "model= regressor\n",
    "\n",
    "reg = model.fit(X_train, y_train)\n",
    "\n",
    "importance = (model.coef_)\n",
    "feature_names= X_train.columns\n",
    "\n",
    "for feature_name, score in zip(feature_names, importance):\n",
    "    print('Feature: %s, Score: %f' % (feature_name,score))\n",
    "\n",
    "pyplot.bar([x for x in range(len(importance))], importance)\n",
    "plt.xticks([0,1,2,3,4,5,6,7,8,9,10,11,12,13,14,15],feature_names,rotation='vertical')\n",
    "pyplot.show()"
   ]
  },
  {
   "cell_type": "code",
   "execution_count": 84,
   "id": "21922654",
   "metadata": {},
   "outputs": [],
   "source": [
    "max_error = max(residuals) if abs(max(residuals)) > abs(min(residuals)) else min(residuals)\n",
    "max_idx = list(residuals).index(max(residuals)) if abs(max(residuals)) > abs(min(residuals)) else list(residuals).index(min(residuals))\n",
    "\n",
    "max_true, max_pred = list(y_test)[max_idx], list(y_pred)[max_idx]\n"
   ]
  },
  {
   "cell_type": "code",
   "execution_count": 85,
   "id": "21286ee3",
   "metadata": {},
   "outputs": [
    {
     "data": {
      "image/png": "[encoded data removed]",
      "text/plain": [
       "<Figure size 432x288 with 1 Axes>"
      ]
     },
     "metadata": {
      "needs_background": "light"
     },
     "output_type": "display_data"
    }
   ],
   "source": [
    "fig, ax = plt.subplots(1, 1)\n",
    "y_pred =  model.predict(X_test)\n",
    "ax.scatter(y_pred, y_test, color=\"black\")\n",
    "abline_plot(intercept=0, slope=1, color=\"red\", ax=ax)\n",
    "ax.vlines(x=max_pred, ymin=max_true, ymax=max_true-max_error, color='red', linestyle='--', alpha=0.7, label=\"max error\")\n",
    "ax.grid(True)\n",
    "ax.set(xlabel=\"Predicted\", ylabel=\"True\", title=\"Predicted vs True\")\n",
    "ax.legend()\n",
    "pyplot.show()"
   ]
  }
 ],
 "metadata": {
  "kernelspec": {
   "display_name": "Python 3",
   "language": "python",
   "name": "python3"
  },
  "language_info": {
   "codemirror_mode": {
    "name": "ipython",
    "version": 3
   },
   "file_extension": ".py",
   "mimetype": "text/x-python",
   "name": "python",
   "nbconvert_exporter": "python",
   "pygments_lexer": "ipython3",
   "version": "3.9.0"
  }
 },
 "nbformat": 4,
 "nbformat_minor": 5
}
